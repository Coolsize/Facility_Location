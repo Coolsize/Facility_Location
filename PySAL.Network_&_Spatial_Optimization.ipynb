{
 "cells": [
  {
   "cell_type": "code",
   "execution_count": 1,
   "metadata": {
    "collapsed": true
   },
   "outputs": [],
   "source": [
    "#    GNU LESSER GENERAL PUBLIC LICENSE\n",
    "#    Version 3, 29 June 2007\n",
    "#    Copyright (C) 2007 Free Software Foundation, Inc. <http://fsf.org/>\n",
    "#    Everyone is permitted to copy and distribute verbatim copies\n",
    "#    of this license document, but changing it is not allowed.\n",
    "\n",
    "#    James Gaboardi, 2016"
   ]
  },
  {
   "cell_type": "markdown",
   "metadata": {},
   "source": [
    "# Integrating PySAL.Network with Gurobi, CPLEX, & COIN-OR for optimization of the *p*-Center facility location problem\n",
    "----\n",
    "\n",
    "## James Gaboardi &nbsp;| &nbsp;Florida State University&nbsp;| &nbsp;Department of Geography "
   ]
  },
  {
   "cell_type": "code",
   "execution_count": 2,
   "metadata": {
    "collapsed": true
   },
   "outputs": [],
   "source": [
    "# Local path on user's machine\n",
    "path = '/Users/jgaboardi/FacilityLocation/Data/'"
   ]
  },
  {
   "cell_type": "markdown",
   "metadata": {},
   "source": [
    "## The *p*-Center Problem $\\Rightarrow$ \"minimum worst case\" $\\Rightarrow$ equity"
   ]
  },
  {
   "cell_type": "markdown",
   "metadata": {},
   "source": [
    "The objective of the *p*-center problem, also know as the minimax problem and the PCP, is to \n",
    "minimize the worst case cost (*W*) scenario while siting [*p*] facilities to serve all demand/client nodes.  It was originally proposed by Minieka as the *m*-Center problem (1970) and is well-studied in Geography, Operations Research, Mathematics, etc.  In this notebook the network-based vertice PCP is used meaning the cost will be calculated on a topologically accurate road network with `pysal.Network` and solutions will be determined based on discrete locations with `Gurobi`, `CPLEX`, and `COIN-OR`.  Cost is defined as distance here.\n",
    "\n",
    "*For more information refer to references section.*"
   ]
  },
  {
   "cell_type": "markdown",
   "metadata": {},
   "source": [
    "**Minimize**\n",
    "\n",
    "### &nbsp;&nbsp;&nbsp;&nbsp;&nbsp;&nbsp;&nbsp;&nbsp; $W$\n",
    "\n",
    "**Subject to**\n",
    "\n",
    "### &nbsp;&nbsp;&nbsp;&nbsp;&nbsp;&nbsp;&nbsp;&nbsp; $\\displaystyle\\sum_{j\\in m} x_{ij} = 1,$ &nbsp;&nbsp;&nbsp;&nbsp;&nbsp;&nbsp;&nbsp;&nbsp;&nbsp;&nbsp;&nbsp;&nbsp;   $\\forall i \\in n$\n",
    "\n",
    "### &nbsp;&nbsp;&nbsp;&nbsp;&nbsp;&nbsp;&nbsp;&nbsp; $\\displaystyle\\sum_{j \\in m} y_j = p$\n",
    "\n",
    "### &nbsp;&nbsp;&nbsp;&nbsp;&nbsp;&nbsp;&nbsp;&nbsp; $x_{ij} - y_j \\geq 0,$ &nbsp;&nbsp;&nbsp;&nbsp;&nbsp;&nbsp;&nbsp;&nbsp;&nbsp;&nbsp;&nbsp;  $\\forall i\\in n, j \\in m$\n",
    "\n",
    "### &nbsp;&nbsp;&nbsp;&nbsp;&nbsp;&nbsp;&nbsp;&nbsp; $\\displaystyle W \\geq \\sum_{j \\in m} c_{ij} x_{ij}$&nbsp;&nbsp;&nbsp;&nbsp;&nbsp;&nbsp;&nbsp;&nbsp;&nbsp; $\\forall i \\in n$\n",
    "\n",
    "### &nbsp;&nbsp;&nbsp;&nbsp;&nbsp;&nbsp;&nbsp;&nbsp; $x_{ij}, y_j \\in \\{0,1\\}$ &nbsp;&nbsp;&nbsp;&nbsp;&nbsp;&nbsp;&nbsp; $\\forall i \\in n, j \\in m$\n",
    "\n",
    "**where**\n",
    "\n",
    "- $W$ = the worst case cost between a client and a service node\n",
    "- $i$ = a specific origin\n",
    "- $j$ = a specific destination\n",
    "- $n$ = the set of origins\n",
    "- $m$ = the set of destinations\n",
    "- $a_i$ = weight at each node\n",
    "- $c_{ij}$ = travel costs between nodes\n",
    "- $x_{ij}$ = the decision variable at each node in the matrix\n",
    "- $y_j$ = nodes chosen as service facilities\n",
    "- $p$ = the number of facilities to be sited\n",
    "\n",
    "-----\n",
    "\n",
    "Adapted from:\n",
    "- ***Daskin, M. S. 1995***. Network and Discrete Location: Models, Algorithms, and Applications. Hoboken, NJ, USA: John Wiley & Sons, Inc."
   ]
  },
  {
   "cell_type": "markdown",
   "metadata": {},
   "source": [
    "# Imports"
   ]
  },
  {
   "cell_type": "code",
   "execution_count": 3,
   "metadata": {
    "collapsed": false
   },
   "outputs": [
    {
     "name": "stderr",
     "output_type": "stream",
     "text": [
      "/Users/jgaboardi/Library/Enthought/Canopy_64bit/User/lib/python2.7/site-packages/matplotlib/font_manager.py:273: UserWarning: Matplotlib is building the font cache using fc-list. This may take a moment.\n",
      "  warnings.warn('Matplotlib is building the font cache using fc-list. This may take a moment.')\n"
     ]
    },
    {
     "data": {
      "text/html": [
       "\n",
       "    <div class=\"bk-banner\">\n",
       "        <a href=\"http://bokeh.pydata.org\" target=\"_blank\" class=\"bk-logo bk-logo-small bk-logo-notebook\"></a>\n",
       "        <span id=\"a87764aa-f728-42f4-9308-0af72d4d776a\">Loading BokehJS ...</span>\n",
       "    </div>"
      ]
     },
     "metadata": {},
     "output_type": "display_data"
    },
    {
     "data": {
      "application/javascript": [
       "\n",
       "(function(global) {\n",
       "  function now() {\n",
       "    return new Date();\n",
       "  }\n",
       "\n",
       "  if (typeof (window._bokeh_onload_callbacks) === \"undefined\") {\n",
       "    window._bokeh_onload_callbacks = [];\n",
       "  }\n",
       "\n",
       "  function run_callbacks() {\n",
       "    window._bokeh_onload_callbacks.forEach(function(callback) { callback() });\n",
       "    delete window._bokeh_onload_callbacks\n",
       "    console.info(\"Bokeh: all callbacks have finished\");\n",
       "  }\n",
       "\n",
       "  function load_libs(js_urls, callback) {\n",
       "    window._bokeh_onload_callbacks.push(callback);\n",
       "    if (window._bokeh_is_loading > 0) {\n",
       "      console.log(\"Bokeh: BokehJS is being loaded, scheduling callback at\", now());\n",
       "      return null;\n",
       "    }\n",
       "    if (js_urls == null || js_urls.length === 0) {\n",
       "      run_callbacks();\n",
       "      return null;\n",
       "    }\n",
       "    console.log(\"Bokeh: BokehJS not loaded, scheduling load and callback at\", now());\n",
       "    window._bokeh_is_loading = js_urls.length;\n",
       "    for (var i = 0; i < js_urls.length; i++) {\n",
       "      var url = js_urls[i];\n",
       "      var s = document.createElement('script');\n",
       "      s.src = url;\n",
       "      s.async = false;\n",
       "      s.onreadystatechange = s.onload = function() {\n",
       "        window._bokeh_is_loading--;\n",
       "        if (window._bokeh_is_loading === 0) {\n",
       "          console.log(\"Bokeh: all BokehJS libraries loaded\");\n",
       "          run_callbacks()\n",
       "        }\n",
       "      };\n",
       "      s.onerror = function() {\n",
       "        console.warn(\"failed to load library \" + url);\n",
       "      };\n",
       "      console.log(\"Bokeh: injecting script tag for BokehJS library: \", url);\n",
       "      document.getElementsByTagName(\"head\")[0].appendChild(s);\n",
       "    }\n",
       "  };\n",
       "\n",
       "  var js_urls = ['https://cdn.pydata.org/bokeh/release/bokeh-0.11.1.min.js', 'https://cdn.pydata.org/bokeh/release/bokeh-widgets-0.11.1.min.js', 'https://cdn.pydata.org/bokeh/release/bokeh-compiler-0.11.1.min.js'];\n",
       "\n",
       "  var inline_js = [\n",
       "    function(Bokeh) {\n",
       "      Bokeh.set_log_level(\"info\");\n",
       "    },\n",
       "    \n",
       "    function(Bokeh) {\n",
       "      Bokeh.$(\"#a87764aa-f728-42f4-9308-0af72d4d776a\").text(\"BokehJS successfully loaded\");\n",
       "    },\n",
       "    function(Bokeh) {\n",
       "      console.log(\"Bokeh: injecting CSS: https://cdn.pydata.org/bokeh/release/bokeh-0.11.1.min.css\");\n",
       "      Bokeh.embed.inject_css(\"https://cdn.pydata.org/bokeh/release/bokeh-0.11.1.min.css\");\n",
       "      console.log(\"Bokeh: injecting CSS: https://cdn.pydata.org/bokeh/release/bokeh-widgets-0.11.1.min.css\");\n",
       "      Bokeh.embed.inject_css(\"https://cdn.pydata.org/bokeh/release/bokeh-widgets-0.11.1.min.css\");\n",
       "    }\n",
       "  ];\n",
       "\n",
       "  function run_inline_js() {\n",
       "    for (var i = 0; i < inline_js.length; i++) {\n",
       "      inline_js[i](window.Bokeh);\n",
       "    }\n",
       "  }\n",
       "\n",
       "  if (window._bokeh_is_loading === 0) {\n",
       "    console.log(\"Bokeh: BokehJS loaded, going straight to plotting\");\n",
       "    run_inline_js();\n",
       "  } else {\n",
       "    load_libs(js_urls, function() {\n",
       "      console.log(\"Bokeh: BokehJS plotting callback run at\", now());\n",
       "      run_inline_js();\n",
       "    });\n",
       "  }\n",
       "}(this));"
      ]
     },
     "metadata": {},
     "output_type": "display_data"
    }
   ],
   "source": [
    "import pysal as ps\n",
    "import geopandas as gpd\n",
    "import numpy as np\n",
    "import networkx as nx\n",
    "import shapefile as shp\n",
    "from shapely.geometry import Point\n",
    "import shapely\n",
    "from collections import OrderedDict\n",
    "import pandas as pd\n",
    "import qgrid\n",
    "import gurobipy as gbp\n",
    "import cplex as cp\n",
    "import time\n",
    "import bokeh\n",
    "from bokeh.plotting import figure, show, ColumnDataSource\n",
    "from bokeh.io import output_notebook, output_file, show\n",
    "from bokeh.models import (HoverTool, BoxAnnotation, GeoJSONDataSource, \n",
    "                          GMapPlot, GMapOptions, ColumnDataSource, Circle, \n",
    "                          DataRange1d, PanTool, WheelZoomTool, BoxSelectTool,\n",
    "                          ResetTool, MultiLine)\n",
    "import utm\n",
    "from cylp.cy import CyCbcModel, CyClpSimplex\n",
    "import matplotlib as mpl\n",
    "%matplotlib inline\n",
    "mpl.rcParams['figure.figsize']=8,8\n",
    "output_notebook()"
   ]
  },
  {
   "cell_type": "markdown",
   "metadata": {},
   "source": [
    "# Data Prep"
   ]
  },
  {
   "cell_type": "markdown",
   "metadata": {},
   "source": [
    "### Reproject the street network with `GeoPandas` --> Waverly  Hills"
   ]
  },
  {
   "cell_type": "code",
   "execution_count": 4,
   "metadata": {
    "collapsed": false
   },
   "outputs": [],
   "source": [
    "STREETS_Orig = gpd.read_file(path+'Waverly_Trim/Waverly.shp')\n",
    "STREETS = gpd.read_file(path+'Waverly_Trim/Waverly.shp')\n",
    "STREETS.to_crs(epsg=2779, inplace=True) # NAD83(HARN) / Florida North\n",
    "STREETS.to_file(path+'WAVERLY/WAVERLY.shp')"
   ]
  },
  {
   "cell_type": "markdown",
   "metadata": {},
   "source": [
    "### Instantiate the network"
   ]
  },
  {
   "cell_type": "code",
   "execution_count": 5,
   "metadata": {
    "collapsed": true
   },
   "outputs": [],
   "source": [
    "# Network\n",
    "ntw = ps.Network(path+'WAVERLY/WAVERLY.shp')\n",
    "shp_W = ps.open(path+'WAVERLY/WAVERLY.shp')"
   ]
  },
  {
   "cell_type": "markdown",
   "metadata": {},
   "source": [
    "### Create 200-meter buffer of the streets then unary union"
   ]
  },
  {
   "cell_type": "code",
   "execution_count": 6,
   "metadata": {
    "collapsed": true
   },
   "outputs": [],
   "source": [
    "# Buffer\n",
    "buff = STREETS.buffer(200)  #Buffer\n",
    "buffU = buff.unary_union  #Buffer Union\n",
    "buff1 = gpd.GeoSeries(buffU)\n",
    "buff1.crs = STREETS.crs\n",
    "Buff = gpd.GeoDataFrame(buff1, crs=STREETS.crs)\n",
    "Buff.columns = ['geometry']"
   ]
  },
  {
   "cell_type": "markdown",
   "metadata": {},
   "source": [
    "### Create random points within the bounds of `WAVERLY.shp`"
   ]
  },
  {
   "cell_type": "code",
   "execution_count": 7,
   "metadata": {
    "collapsed": true
   },
   "outputs": [],
   "source": [
    "# Random Points\n",
    "np.random.seed(352)\n",
    "x = np.random.uniform(shp_W.bbox[0], shp_W.bbox[2], 1000)\n",
    "np.random.seed(850)\n",
    "y = np.random.uniform(shp_W.bbox[1], shp_W.bbox[3], 1000)  \n",
    "coords0= zip(x,y)\n",
    "coords = [shapely.geometry.Point(i) for i in coords0]\n",
    "Rand = gpd.GeoDataFrame(coords)\n",
    "Rand.crs = STREETS.crs\n",
    "Rand.columns = ['geometry']"
   ]
  },
  {
   "cell_type": "markdown",
   "metadata": {},
   "source": [
    "### Keep only the points within the unary union buffer"
   ]
  },
  {
   "cell_type": "code",
   "execution_count": 8,
   "metadata": {
    "collapsed": true
   },
   "outputs": [],
   "source": [
    "# Points in Buffer\n",
    "Inter = [Buff['geometry'].intersection(p) for p in Rand['geometry']]\n",
    "INTER = gpd.GeoDataFrame(Inter, crs=STREETS.crs)\n",
    "INTER.columns = ['geometry']"
   ]
  },
  {
   "cell_type": "markdown",
   "metadata": {},
   "source": [
    "### Simulate clients & service facilities by keeping the 100 and last 15 points, then write each out to a shapefile"
   ]
  },
  {
   "cell_type": "code",
   "execution_count": 9,
   "metadata": {
    "collapsed": true
   },
   "outputs": [],
   "source": [
    "# Add records that are points within the buffer\n",
    "point_in = []\n",
    "for p in INTER['geometry']:\n",
    "    if type(p) == shapely.geometry.point.Point:\n",
    "        point_in.append(p)\n",
    "# Keep First 100 and last 15 for clients & service\n",
    "CLIENT = gpd.GeoDataFrame(point_in[:100], crs=STREETS.crs)\n",
    "CLIENT.columns = ['geometry']\n",
    "SERVICE = gpd.GeoDataFrame(point_in[-15:], crs=STREETS.crs)\n",
    "SERVICE.columns = ['geometry']\n",
    "CLIENT.to_file(path+'CLIENT')\n",
    "SERVICE.to_file(path+'SERVICE')"
   ]
  },
  {
   "cell_type": "markdown",
   "metadata": {},
   "source": [
    "### Instanitate non-solution graphs"
   ]
  },
  {
   "cell_type": "code",
   "execution_count": 10,
   "metadata": {
    "collapsed": true
   },
   "outputs": [],
   "source": [
    "g = nx.Graph() # Roads & Nodes\n",
    "g1 = nx.MultiGraph() # Edges and Vertices\n",
    "GRAPH_client = nx.Graph() # Clients \n",
    "g_client = nx.Graph() # Snapped Clients\n",
    "GRAPH_service = nx.Graph() # Service\n",
    "g_service = nx.Graph() # Snapped Service"
   ]
  },
  {
   "cell_type": "markdown",
   "metadata": {},
   "source": [
    "### Instantiate and fill Client and Service point dictionaries"
   ]
  },
  {
   "cell_type": "code",
   "execution_count": 11,
   "metadata": {
    "collapsed": true
   },
   "outputs": [],
   "source": [
    "points_client = {} \n",
    "points_service = {}\n",
    "\n",
    "CLI = ps.open(path+'CLIENT/CLIENT.shp')\n",
    "for idx, coords in enumerate(CLI):\n",
    "    GRAPH_client.add_node(idx)\n",
    "    points_client[idx] = coords\n",
    "    GRAPH_client.node[idx] = coords\n",
    "\n",
    "SER = ps.open(path+'SERVICE/SERVICE.shp')\n",
    "for idx, coords in enumerate(SER):\n",
    "    GRAPH_service.add_node(idx)\n",
    "    points_service[idx] = coords\n",
    "    GRAPH_service.node[idx] = coords"
   ]
  },
  {
   "cell_type": "markdown",
   "metadata": {},
   "source": [
    "### Instantiate Client and Service .shp files"
   ]
  },
  {
   "cell_type": "code",
   "execution_count": 12,
   "metadata": {
    "collapsed": false
   },
   "outputs": [],
   "source": [
    "# Instantiate Client and Service .shp files\n",
    "client = shp.Writer(shp.POINT) # Client Shapefile\n",
    "# Add Random Points\n",
    "for i,j in CLI:\n",
    "    client.point(i,j)\n",
    "# Add Fields\n",
    "client.field('client_ID')\n",
    "#client.field('Weight')\n",
    "counter = 0\n",
    "for i in range(len(CLI)):\n",
    "    counter = counter + 1\n",
    "    client.record('client_' + str(counter))\n",
    "client.save(path+'Simulated/RandomPoints_CLIENT') # Save Shapefile \n",
    "\n",
    "service = shp.Writer(shp.POINT) #Service Shapefile\n",
    "# Add Random Points\n",
    "for i,j in SER:\n",
    "    service.point(i,j)\n",
    "# Add Fields\n",
    "service.field('y_ID')\n",
    "service.field('x_ID')\n",
    "counter = 0\n",
    "for i in range(len(SER)):\n",
    "    counter = counter + 1\n",
    "    service.record('y' + str(counter), 'x' + str(counter))\n",
    "service.save(path+'Simulated/RandomPoints_SERVICE') # Save Shapefile "
   ]
  },
  {
   "cell_type": "markdown",
   "metadata": {},
   "source": [
    "### Snap Client and Service to network"
   ]
  },
  {
   "cell_type": "code",
   "execution_count": 13,
   "metadata": {
    "collapsed": false
   },
   "outputs": [],
   "source": [
    "Snap_C = ntw.snapobservations(path+'Simulated/RandomPoints_CLIENT.shp', \n",
    "                 'Rand_Points_CLIENT', attribute=True)\n",
    "Snap_S = ntw.snapobservations(path+'Simulated/RandomPoints_SERVICE.shp', \n",
    "                 'Rand_Points_SERVICE', attribute=True)"
   ]
  },
  {
   "cell_type": "markdown",
   "metadata": {},
   "source": [
    "### Create and write out snapped service .shp"
   ]
  },
  {
   "cell_type": "code",
   "execution_count": 14,
   "metadata": {
    "collapsed": true
   },
   "outputs": [],
   "source": [
    "# Create Lat & Lon lists of the snapped service locations\n",
    "y_snapped = []\n",
    "x_snapped = []\n",
    "for i,j in ntw.pointpatterns['Rand_Points_SERVICE'].snapped_coordinates.iteritems():\n",
    "    y_snapped.append(j[0]) \n",
    "    x_snapped.append(j[1])\n",
    "\n",
    "# Create and write out snapped service .shp\n",
    "service_SNAP = shp.Writer(shp.POINT) # Snapped Service Shapefile\n",
    "# Add Points\n",
    "for i,j in ntw.pointpatterns['Rand_Points_SERVICE'].snapped_coordinates.iteritems():\n",
    "    service_SNAP.point(j[0],j[1])\n",
    "# Add Fields\n",
    "service_SNAP.field('y_ID')\n",
    "service_SNAP.field('x_ID')\n",
    "service_SNAP.field('LAT')\n",
    "service_SNAP.field('LON')\n",
    "counter = 0\n",
    "for i in range(len(ntw.pointpatterns['Rand_Points_SERVICE'].snapped_coordinates)):\n",
    "    counter = counter + 1\n",
    "    service_SNAP.record('y' + str(counter), 'x' + str(counter), y_snapped[i], x_snapped[i])\n",
    "    service_SNAP.save(path+'Snapped/SERVICE_Snapped') # Save Shapefile "
   ]
  },
  {
   "cell_type": "markdown",
   "metadata": {},
   "source": [
    "# What we have thus far:"
   ]
  },
  {
   "cell_type": "code",
   "execution_count": 15,
   "metadata": {
    "collapsed": false
   },
   "outputs": [
    {
     "data": {
      "text/plain": [
       "<matplotlib.axes._subplots.AxesSubplot at 0x115355590>"
      ]
     },
     "execution_count": 15,
     "metadata": {},
     "output_type": "execute_result"
    },
    {
     "data": {
      "image/png": "[encoded data removed]",
      "text/plain": [
       "<matplotlib.figure.Figure at 0x11360a650>"
      ]
     },
     "metadata": {},
     "output_type": "display_data"
    }
   ],
   "source": [
    "Buff.plot()\n",
    "STREETS.plot()\n",
    "CLIENT.plot()\n",
    "SERVICE.plot(colormap=True)"
   ]
  },
  {
   "cell_type": "markdown",
   "metadata": {
    "collapsed": true
   },
   "source": [
    "## Client to Service Distance Matrix"
   ]
  },
  {
   "cell_type": "code",
   "execution_count": 16,
   "metadata": {
    "collapsed": true
   },
   "outputs": [],
   "source": [
    "All_Neigh_Dist = ntw.allneighbordistances(    # in meters\n",
    "                        sourcepattern=ntw.pointpatterns['Rand_Points_CLIENT'],\n",
    "                        destpattern=ntw.pointpatterns['Rand_Points_SERVICE'])\n",
    "All_Dist_MILES = All_Neigh_Dist * 0.000621371 # to miles"
   ]
  },
  {
   "cell_type": "markdown",
   "metadata": {},
   "source": [
    "------------"
   ]
  },
  {
   "cell_type": "markdown",
   "metadata": {},
   "source": [
    "# Create `.lp` file"
   ]
  },
  {
   "cell_type": "code",
   "execution_count": 31,
   "metadata": {
    "collapsed": false
   },
   "outputs": [],
   "source": [
    "# p-Center Facility Location Problem\n",
    "# This script creates a linear programming file to be read into an optimizer.\n",
    "'''\n",
    "GNU LESSER GENERAL PUBLIC LICENSE\n",
    "                       Version 3, 29 June 2007\n",
    "\n",
    " Copyright (C) 2007 Free Software Foundation, Inc. <http://fsf.org/>\n",
    " Everyone is permitted to copy and distribute verbatim copies\n",
    " of this license document, but changing it is not allowed.\n",
    "'''\n",
    "# Developed by:  James D. Gaboardi, MSGIS\n",
    "#                03/2015\n",
    "#                James Gaboardi\n",
    "\n",
    "#   Terminology & General Background for Facility Location and Summation Notation:\n",
    "\n",
    "#   *        The objective of the p-center Facility Location Problem is \n",
    "#            to minimize the maximum cost of travel between service \n",
    "#            facilities and clients on a network.\n",
    "\n",
    "#   *   [i] - a specific origin\n",
    "#   *   [j] - a specifc destination\n",
    "#   *   [n] - the set of origins\n",
    "#   *   [m] - the set of destinations\n",
    "#   *   [Cij] - travel costs between nodes\n",
    "#   *   [W] - the maximum travel costs between service facilities and clients \n",
    "#   *   [x#_#] - the client decision variable\n",
    "#   *   [y#] - the service decision variable\n",
    "#   *   [p] - the number of facilities to be sited\n",
    "\n",
    "#****************************************************************************\n",
    "'''\n",
    "|    How many candidate sites [p] can be selected?\n",
    "'''\n",
    "p = 5\n",
    "\n",
    "#****************************************************************************\n",
    "\n",
    "\n",
    "#    DEFINED FUNCTIONS\n",
    "# Assignment Constraints\n",
    "def get_assignment_constraints():\n",
    "    outtext = ' '\n",
    "    for i in range(1,rows+1):\n",
    "        temp = ' '\n",
    "        for j in range(1,cols+1):\n",
    "            temp += 'x' + str(i) + '_' + str(j) + ' + '\n",
    "        outtext += temp[:-2] + '= 1\\n'\n",
    "    return outtext\n",
    "\n",
    "# Facility Constraint  \n",
    "def get_p_facilities(p):\n",
    "    outtext = ''\n",
    "    for i in range(1, cols+1):\n",
    "        temp = ''\n",
    "        temp += 'y' + str(i)\n",
    "        outtext += temp + ' + '\n",
    "    outtext = ' ' + outtext[:-2] + '= '+ str(p) + '\\n'\n",
    "    return outtext\n",
    "\n",
    "# Opening Constraints\n",
    "def get_opening_constraints_p_center():\n",
    "    outtext = ''\n",
    "    for i in range(1, cols+1):\n",
    "        for j in range(1, rows+1):\n",
    "            outtext += ' - x' + str(j) + '_' + str(i) + ' + ' + 'y' + str(i) +  ' >= 0\\n'\n",
    "    return outtext\n",
    "\n",
    "# Maximum Cost Constraints\n",
    "def get_max_cost():\n",
    "    outtext = ''\n",
    "    for i in range(rows):\n",
    "        temp = '  '\n",
    "        for j in range(cols):\n",
    "            temp += str(Cij[i,j]) + ' x' + str(i+1) + '_' + str(j+1) + ' + '\n",
    "        outtext += temp[:-2] + '- W <= 0\\n'\n",
    "    return outtext\n",
    "\n",
    "# Declaration of Bounds\n",
    "def get_bounds_allocation():\n",
    "    outtext = ' '\n",
    "    for i in range(rows):\n",
    "        temp = ''\n",
    "        for j in range(cols):\n",
    "            temp += ' 0 <= x' + str(i+1) + '_' + str(j+1) + ' <= 1\\n'\n",
    "        outtext += temp    \n",
    "    return outtext\n",
    "\n",
    "def get_bounds_facility():\n",
    "    outtext = ''\n",
    "    for i in range(cols):\n",
    "        outtext += ' 0 <= y' + str(i+1) + ' <= 1\\n'\n",
    "    return outtext\n",
    "\n",
    "# Declaration of Decision Variables (form can be: Binary, Integer, etc.)\n",
    "def get_decision_variables_p_center():\n",
    "    outtext = ' '\n",
    "    for i in range(1, rows+1):\n",
    "        temp = ''\n",
    "        for j in range(1, cols+1):\n",
    "            temp += 'x' + str(i) + '_' + str(j) + '\\n'\n",
    "        outtext += temp\n",
    "    return outtext\n",
    "    \n",
    "def get_facility_decision_variables_p_center():  \n",
    "    outtext = ''\n",
    "    for i in range (1, cols+1):\n",
    "        outtext += 'y' + str(i) + ' '\n",
    "    return outtext    \n",
    "\n",
    "#    DATA READS & VARIABLE DECLARATION\n",
    "Cij = All_Dist_MILES\n",
    "rows,cols = Cij.shape\n",
    "\n",
    "#    START TEXT FOR .lp FILE\n",
    "# Declaration of Objective Function\n",
    "text = 'Minimize\\n'\n",
    "text += ' obj: W\\n'\n",
    "# Declaration of Constraints\n",
    "text += 'Subject To\\n'                    \n",
    "text += get_assignment_constraints()\n",
    "text += get_p_facilities(p)\n",
    "text += get_opening_constraints_p_center()\n",
    "text += get_max_cost()\n",
    "# Declaration of Bounds\n",
    "text += 'Bounds\\n'\n",
    "text += get_bounds_allocation()\n",
    "text += get_bounds_facility()\n",
    "# Declaration of Decision Variables form: Binaries\n",
    "text += 'Binaries\\n'\n",
    "text += get_decision_variables_p_center()\n",
    "text += get_facility_decision_variables_p_center()\n",
    "text += '\\n'\n",
    "text += 'End\\n'\n",
    "text += \"'''\\n\"\n",
    "text += \"James Gaboardi, 2015\"\n",
    "                \n",
    "#   CREATE & WRITE .lp FILE TO DISK\n",
    "# Fill path name  --  File name must not have spaces.\n",
    "outfile = open(path+'LP_Files/pCenter_Manual.lp', 'w')\n",
    "outfile.write(text)\n",
    "outfile.close()"
   ]
  },
  {
   "cell_type": "markdown",
   "metadata": {},
   "source": [
    "-------------"
   ]
  },
  {
   "cell_type": "markdown",
   "metadata": {},
   "source": [
    "# Solutions"
   ]
  },
  {
   "cell_type": "markdown",
   "metadata": {},
   "source": [
    "## Gurobi"
   ]
  },
  {
   "cell_type": "code",
   "execution_count": 32,
   "metadata": {
    "collapsed": false
   },
   "outputs": [
    {
     "name": "stdout",
     "output_type": "stream",
     "text": [
      "Parameter MIPFocus unchanged\n",
      "   Value: 2  Min: 0  Max: 3  Default: 0\n",
      "Optimize a model with 1701 rows, 1516 columns and 6115 nonzeros\n",
      "Coefficient statistics:\n",
      "  Matrix range    [2e-03, 3e+00]\n",
      "  Objective range [1e+00, 1e+00]\n",
      "  Bounds range    [1e+00, 1e+00]\n",
      "  RHS range       [1e+00, 5e+00]\n",
      "Presolve time: 0.03s\n",
      "Presolved: 1701 rows, 1516 columns, 6015 nonzeros\n",
      "Variable types: 1 continuous, 1515 integer (1515 binary)\n",
      "Found heuristic solution: objective 2.1103205\n",
      "Found heuristic solution: objective 2.0703495\n",
      "Found heuristic solution: objective 2.0155480\n",
      "Presolve removed 112 rows and 112 columns\n",
      "Presolved: 1589 rows, 1404 columns, 5567 nonzeros\n",
      "\n",
      "\n",
      "Root relaxation: objective 7.212557e-01, 955 iterations, 0.03 seconds\n",
      "\n",
      "    Nodes    |    Current Node    |     Objective Bounds      |     Work\n",
      " Expl Unexpl |  Obj  Depth IntInf | Incumbent    BestBd   Gap | It/Node Time\n",
      "\n",
      "     0     0    0.72126    0  263    2.01555    0.72126  64.2%     -    0s\n",
      "H    0     0                       2.0143382    0.72126  64.2%     -    0s\n",
      "H    0     0                       1.5276038    0.72126  52.8%     -    0s\n",
      "H    0     0                       1.4209713    0.72126  49.2%     -    0s\n",
      "H    0     0                       0.9408986    0.72126  23.3%     -    0s\n",
      "     0     0    0.76490    0  151    0.94090    0.76490  18.7%     -    0s\n",
      "     0     0    0.77791    0  183    0.94090    0.77791  17.3%     -    0s\n",
      "H    0     0                       0.9217976    0.77791  15.6%     -    0s\n",
      "     0     0     cutoff    0         0.92180    0.92180  0.00%     -    0s\n",
      "\n",
      "Cutting planes:\n",
      "  Gomory: 3\n",
      "  Flow cover: 2\n",
      "  Zero half: 5\n",
      "\n",
      "Explored 0 nodes (3835 simplex iterations) in 0.22 seconds\n",
      "Thread count was 4 (of 4 available processors)\n",
      "\n",
      "Optimal solution found (tolerance 1.00e-04)\n",
      "Best objective 9.217975808170e-01, best bound 9.217975808170e-01, gap 0.0%\n",
      "\n",
      "*************************************************************************\n",
      "    |                                             y4\n",
      "    |                                             y6\n",
      "    |                                             y7\n",
      "    |                                             y9\n",
      "    |                                             y14\n",
      "    | Selected Facility Locations -------------- ^^^^ \n",
      "    | Candidate Facilities [p] -----------------  5\n",
      "    | Objective Value (miles) ------------------  0.921797580817\n",
      "    | Real Time to Optimize (sec.) -------------  0.233330011368\n",
      "*************************************************************************\n",
      " -- The p-Center Problem Gurobi -- \n"
     ]
    }
   ],
   "source": [
    "t1 = time.time()\n",
    "\n",
    "gbp.setParam('MIPFocus', 2)                 # Set MIP focus to 'Optimal' --> 2\n",
    "# Instantiate Optimization model from .lp file\n",
    "Gurobi_PCP = gbp.read(path+'LP_Files/pCenter_Manual.lp')   \n",
    "\n",
    "Gurobi_PCP.optimize()\n",
    "t2 = time.time()-t1\n",
    "\n",
    "# Record and Display Results\n",
    "print '\\n*************************************************************************'\n",
    "selected_Gurobi_PCP = []\n",
    "dbf1 = ps.open(path+'Snapped/SERVICE_Snapped.dbf')\n",
    "NEW_Records_PCP_Gurobi = []\n",
    "for v in Gurobi_PCP.getVars():\n",
    "    if 'x' in v.VarName:\n",
    "        pass\n",
    "    elif 'W' in v.VarName:\n",
    "        pass\n",
    "    elif v.x > 0:\n",
    "        var = '%s' % v.VarName\n",
    "        selected_Gurobi_PCP.append(var)\n",
    "        for i in range(dbf1.n_records):\n",
    "            if var in dbf1.read_record(i):\n",
    "                x = dbf1.read_record(i)\n",
    "                NEW_Records_PCP_Gurobi.append(x)\n",
    "            else:\n",
    "                pass\n",
    "        print '    |                                            ', var\n",
    "print '    | Selected Facility Locations -------------- ^^^^ '\n",
    "print '    | Candidate Facilities [p] ----------------- ', len(selected_Gurobi_PCP)\n",
    "print '    | Objective Value (miles) ------------------ ', Gurobi_PCP.objVal\n",
    "print '    | Real Time to Optimize (sec.) ------------- ', t2\n",
    "print '*************************************************************************'\n",
    "print ' -- The p-Center Problem Gurobi -- '"
   ]
  },
  {
   "cell_type": "markdown",
   "metadata": {},
   "source": [
    "## CPLEX"
   ]
  },
  {
   "cell_type": "code",
   "execution_count": 33,
   "metadata": {
    "collapsed": false
   },
   "outputs": [
    {
     "name": "stdout",
     "output_type": "stream",
     "text": [
      "Tried aggregator 1 time.\n",
      "MIP Presolve modified 1753 coefficients.\n",
      "Reduced MIP has 1701 rows, 1516 columns, and 5861 nonzeros.\n",
      "Reduced MIP has 1515 binaries, 0 generals, 0 SOSs, and 0 indicators.\n",
      "Presolve time = 0.01 sec. (10.80 ticks)\n",
      "Found incumbent of value 3.041143 after 0.02 sec. (20.47 ticks)\n",
      "Probing time = 0.00 sec. (2.82 ticks)\n",
      "Tried aggregator 1 time.\n",
      "Reduced MIP has 1701 rows, 1516 columns, and 5861 nonzeros.\n",
      "Reduced MIP has 1515 binaries, 0 generals, 0 SOSs, and 0 indicators.\n",
      "Presolve time = 0.01 sec. (7.27 ticks)\n",
      "Probing time = 0.00 sec. (2.83 ticks)\n",
      "Clique table members: 1600.\n",
      "MIP emphasis: optimality.\n",
      "MIP search method: dynamic search.\n",
      "Parallel mode: deterministic, using up to 4 threads.\n",
      "Root relaxation solution time = 0.02 sec. (28.12 ticks)\n",
      "\n",
      "        Nodes                                         Cuts/\n",
      "   Node  Left     Objective  IInf  Best Integer    Best Bound    ItCnt     Gap\n",
      "\n",
      "*     0+    0                            3.0411        0.6923      683   77.23%\n",
      "*     0+    0                            2.2724        0.6923      683   69.53%\n",
      "      0     0        0.7467   373        2.2724        0.7467      683   67.14%\n",
      "*     0+    0                            0.9547        0.7467      683   21.78%\n",
      "      0     0        0.7912   197        0.9547       Cuts: 5      790   17.13%\n",
      "*     0+    0                            0.9449        0.7912      790   16.26%\n",
      "      0     0        0.8316    44        0.9449      Cuts: 18      800   11.99%\n",
      "*     0+    0                            0.9218        0.8316      800    9.79%\n",
      "      0     0        cutoff              0.9218                    800    0.00%\n",
      "Elapsed time = 0.19 sec. (134.09 ticks, tree = 0.00 MB, solutions = 5)\n",
      "\n",
      "Zero-half cuts applied:  19\n",
      "Gomory fractional cuts applied:  2\n",
      "\n",
      "Root node processing (before b&c):\n",
      "  Real time             =    0.19 sec. (134.19 ticks)\n",
      "Parallel b&c, 4 threads:\n",
      "  Real time             =    0.00 sec. (0.00 ticks)\n",
      "  Sync time (average)   =    0.00 sec.\n",
      "  Wait time (average)   =    0.00 sec.\n",
      "                          ------------\n",
      "Total (root+branch&cut) =    0.19 sec. (134.19 ticks)\n",
      "*************************************************************************\n",
      "    | Selected Facility Locations --------------  ['y4', 'y6', 'y7', 'y9', 'y15']\n",
      "    | Candidate Facilities [p] -----------------  5\n",
      "    | Objective Value (miles) ------------------  0.921797580817\n",
      "    | Real Time to Optimize (sec.) -------------  0.279062986374\n",
      "*************************************************************************\n",
      " -- The p-Center Problem CPLEX -- \n"
     ]
    }
   ],
   "source": [
    "t1 = time.time()\n",
    "\n",
    "# Instantiate Optimization model from .lp file\n",
    "CPLEX_PCP = cp.Cplex(path+'LP_Files/pCenter_Manual.lp')   \n",
    "\n",
    "# Set MIP Emphasis to '2' --> Optimal\n",
    "CPLEX_PCP.parameters.emphasis.mip.set(2)\n",
    "\n",
    "CPLEX_PCP.solve()\n",
    "t2 = time.time()-t1\n",
    "\n",
    "cplex_vars = []\n",
    "counter = -1\n",
    "for f in CPLEX_PCP.solution.get_values():\n",
    "    counter = counter+1\n",
    "    if 'y' in CPLEX_PCP.variables.get_names()[counter]:\n",
    "        if f == 1:\n",
    "            cplex_vars.append(CPLEX_PCP.variables.get_names()[counter])\n",
    "print '*************************************************************************'\n",
    "print '    | Selected Facility Locations -------------- ', cplex_vars\n",
    "print '    | Candidate Facilities [p] ----------------- ', len(cplex_vars)\n",
    "print '    | Objective Value (miles) ------------------ ', CPLEX_PCP.solution.get_objective_value()\n",
    "print '    | Real Time to Optimize (sec.) ------------- ', t2\n",
    "print '*************************************************************************'\n",
    "print ' -- The p-Center Problem CPLEX -- '"
   ]
  },
  {
   "cell_type": "markdown",
   "metadata": {},
   "source": [
    "## COIN-OR (CyLP with CLP and CBC)"
   ]
  },
  {
   "cell_type": "code",
   "execution_count": 34,
   "metadata": {
    "collapsed": false,
    "scrolled": true
   },
   "outputs": [
    {
     "name": "stdout",
     "output_type": "stream",
     "text": [
      "*************************************************************************\n",
      "    | Selected Facility Locations --------------  ['y9', 'y4', 'y7', 'y6', 'y14']\n",
      "    | Candidate Facilities [p] -----------------  5            \n",
      "    | Objective Value (miles) ------------------  0.921797580817\n",
      "    | Real Time to Optimize (sec.) -------------  30.2529609203\n",
      "*************************************************************************\n",
      " -- The p-Center Problem COIN-OR -- \n"
     ]
    }
   ],
   "source": [
    "t1 = time.time()\n",
    "\n",
    "Cy_PCP = CyClpSimplex()\n",
    "\n",
    "Cy_PCP.readLp(path+'LP_Files/pCenter_Manual.lp')\n",
    "\n",
    "Cy_PCP.primal()\n",
    "Cy_PCP.dual()\n",
    "CyBB_PCP = Cy_PCP.getCbcModel()\n",
    "CyBB_PCP.branchAndBound()\n",
    "CyBB_PCP.bestPossibleObjValue\n",
    "\n",
    "selected_COIN_PCP = []\n",
    "for i in CyBB_PCP.primalVariableSolution.sol.keys():\n",
    "    if 'y' in i:\n",
    "        selected_COIN_PCP.append(i)\n",
    "\n",
    "t2 = time.time()-t1\n",
    "        \n",
    "print '*************************************************************************'\n",
    "print '    | Selected Facility Locations -------------- ', selected_COIN_PCP\n",
    "print '    | Candidate Facilities [p] ----------------- ', len(selected_COIN_PCP), '           '\n",
    "print '    | Objective Value (miles) ------------------ ', CyBB_PCP.bestPossibleObjValue\n",
    "print '    | Real Time to Optimize (sec.) ------------- ', t2\n",
    "print '*************************************************************************'\n",
    "print ' -- The p-Center Problem COIN-OR -- '"
   ]
  },
  {
   "cell_type": "markdown",
   "metadata": {},
   "source": [
    "---"
   ]
  },
  {
   "cell_type": "markdown",
   "metadata": {},
   "source": [
    "### Objective Values to 15 significant digits"
   ]
  },
  {
   "cell_type": "code",
   "execution_count": 35,
   "metadata": {
    "collapsed": false
   },
   "outputs": [
    {
     "name": "stdout",
     "output_type": "stream",
     "text": [
      "Equal Objective Values?  True\n"
     ]
    }
   ],
   "source": [
    "print 'Equal Objective Values? ', (round(Gurobi_PCP.objVal,15) == \n",
    "                                   round(CPLEX_PCP.solution.get_objective_value(),15) == \n",
    "                                   round(CyBB_PCP.bestPossibleObjValue,15))"
   ]
  },
  {
   "cell_type": "markdown",
   "metadata": {},
   "source": [
    "### Objective Values to 16 significant digits"
   ]
  },
  {
   "cell_type": "code",
   "execution_count": 36,
   "metadata": {
    "collapsed": false
   },
   "outputs": [
    {
     "name": "stdout",
     "output_type": "stream",
     "text": [
      "Identical Facility Selection?  True\n"
     ]
    }
   ],
   "source": [
    "print 'Equal Objective Values? ', (round(Gurobi_PCP.objVal, 16) == \n",
    "                                   round(CPLEX_PCP.solution.get_objective_value(),16) == \n",
    "                                   round(CyBB_PCP.bestPossibleObjValue, 16))"
   ]
  },
  {
   "cell_type": "markdown",
   "metadata": {},
   "source": [
    "### Site Selection"
   ]
  },
  {
   "cell_type": "code",
   "execution_count": 46,
   "metadata": {
    "collapsed": false
   },
   "outputs": [
    {
     "name": "stdout",
     "output_type": "stream",
     "text": [
      "Identical Facility Selection?  False\n",
      "Gurobi :  ['y4', 'y6', 'y7', 'y9', 'y14']\n",
      "CPLEX  :  ['y4', 'y6', 'y7', 'y9', 'y15']\n",
      "COIN-OR:  ['y9', 'y4', 'y7', 'y6', 'y14']\n"
     ]
    }
   ],
   "source": [
    "print 'Identical Facility Selection? ', (selected_Gurobi_PCP == \n",
    "                                           cplex_vars == \n",
    "                                           selected_COIN_PCP)\n",
    "\n",
    "print 'Gurobi : ', selected_Gurobi_PCP\n",
    "print 'CPLEX  : ', cplex_vars\n",
    "print 'COIN-OR: ', selected_COIN_PCP"
   ]
  },
  {
   "cell_type": "markdown",
   "metadata": {},
   "source": [
    "## Pandas dataframe"
   ]
  },
  {
   "cell_type": "code",
   "execution_count": 49,
   "metadata": {
    "collapsed": false
   },
   "outputs": [
    {
     "data": {
      "text/html": [
       "<div>\n",
       "<table border=\"1\" class=\"dataframe\">\n",
       "  <thead>\n",
       "    <tr style=\"text-align: right;\">\n",
       "      <th></th>\n",
       "      <th>Obj. Value (15 sig.)</th>\n",
       "      <th>Obj. Value (16 sig.)</th>\n",
       "      <th>Site Selection</th>\n",
       "    </tr>\n",
       "    <tr>\n",
       "      <th>Optimizer</th>\n",
       "      <th></th>\n",
       "      <th></th>\n",
       "      <th></th>\n",
       "    </tr>\n",
       "  </thead>\n",
       "  <tbody>\n",
       "    <tr>\n",
       "      <th>Gurobi</th>\n",
       "      <td>0.92179758081700002847</td>\n",
       "      <td>0.92179758081700002847</td>\n",
       "      <td>[y4, y6, y7, y9, y14]</td>\n",
       "    </tr>\n",
       "    <tr>\n",
       "      <th>CPLEX</th>\n",
       "      <td>0.92179758081700002847</td>\n",
       "      <td>0.92179758081700002847</td>\n",
       "      <td>[y4, y6, y7, y9, y15]</td>\n",
       "    </tr>\n",
       "    <tr>\n",
       "      <th>COIN-OR</th>\n",
       "      <td>0.92179758081700002847</td>\n",
       "      <td>0.92179758081700002847</td>\n",
       "      <td>[y9, y4, y7, y6, y14]</td>\n",
       "    </tr>\n",
       "  </tbody>\n",
       "</table>\n",
       "</div>"
      ],
      "text/plain": [
       "               Obj. Value (15 sig.)    Obj. Value (16 sig.)  \\\n",
       " Optimizer                                                    \n",
       "Gurobi       0.92179758081700002847  0.92179758081700002847   \n",
       "CPLEX        0.92179758081700002847  0.92179758081700002847   \n",
       "COIN-OR      0.92179758081700002847  0.92179758081700002847   \n",
       "\n",
       "                    Site Selection  \n",
       " Optimizer                          \n",
       "Gurobi       [y4, y6, y7, y9, y14]  \n",
       "CPLEX        [y4, y6, y7, y9, y15]  \n",
       "COIN-OR      [y9, y4, y7, y6, y14]  "
      ]
     },
     "execution_count": 49,
     "metadata": {},
     "output_type": "execute_result"
    }
   ],
   "source": [
    "p_center = pd.DataFrame(columns=\n",
    "                        ['Obj. Value (15 sig.)', 'Obj. Value (16 sig.)'], \n",
    "                        index=['Gurobi', 'CPLEX', 'COIN-OR'])\n",
    "pd.set_option('precision', 20)\n",
    "\n",
    "objective_values_15 = [round(Gurobi_PCP.objVal,15), \n",
    "                        round(CPLEX_PCP.solution.get_objective_value(),15),\n",
    "                        round(CyBB_PCP.bestPossibleObjValue,15)]\n",
    "objective_values_16 = [round(Gurobi_PCP.objVal,16), \n",
    "                        round(CPLEX_PCP.solution.get_objective_value(),16),\n",
    "                        round(CyBB_PCP.bestPossibleObjValue,16)]\n",
    "\n",
    "p_center['Obj. Value (15 sig.)'] = objective_values_15\n",
    "p_center['Obj. Value (16 sig.)'] = objective_values_16\n",
    "p_center['Site Selection'] = selected_Gurobi_PCP, cplex_vars, selected_COIN_PCP\n",
    "p_center.index.name = ' Optimizer ' \n",
    "p_center"
   ]
  },
  {
   "cell_type": "markdown",
   "metadata": {},
   "source": [
    "- ** The results are highly variable between these optimization suites, most likely due to different default settings and algorithms employeed.**\n",
    "\n",
    "- ** With various [p] the same facilities can be chosen with differing objective values and vice versa.**"
   ]
  },
  {
   "cell_type": "markdown",
   "metadata": {},
   "source": [
    "## Coordinate conversion for Google Map overlay "
   ]
  },
  {
   "cell_type": "code",
   "execution_count": 40,
   "metadata": {
    "collapsed": false
   },
   "outputs": [],
   "source": [
    "p_list = []\n",
    "for i in range(1, len(SER)+1):\n",
    "    p = 'p'+str(i)\n",
    "    p_list.append(p)\n",
    "\n",
    "y_list = []\n",
    "for i in range(1, len(SER)+1):\n",
    "    y = 'y'+str(i)\n",
    "    y_list.append(y)\n",
    "\n",
    "points = SERVICE\n",
    "points.to_crs(epsg=32616, inplace=True) # UTM 16N\n",
    "LonLat_Dict = OrderedDict()\n",
    "LonLat_List = []\n",
    "\n",
    "for i,j in points['geometry'].iteritems():\n",
    "    LonLat_Dict[y_list[i]] = utm.to_latlon(j.xy[0][-1], j.xy[1][-1], 16, 'N')  \n",
    "    LonLat_List.append((utm.to_latlon(j.xy[0][-1], j.xy[1][-1], 16, 'N')))\n",
    "\n",
    "Service_Lat_List = []\n",
    "Service_Lon_List = []\n",
    "    \n",
    "for i in LonLat_List:\n",
    "    Service_Lat_List.append(i[0])\n",
    "for i in LonLat_List:\n",
    "    Service_Lon_List.append(i[1])"
   ]
  },
  {
   "cell_type": "markdown",
   "metadata": {},
   "source": [
    "## Google Map overlay"
   ]
  },
  {
   "cell_type": "code",
   "execution_count": 52,
   "metadata": {
    "collapsed": false
   },
   "outputs": [
    {
     "data": {
      "text/html": [
       "\n",
       "\n",
       "    <div class=\"plotdiv\" id=\"09d56ba2-69c5-438a-b566-317096cce811\"></div>\n",
       "<script type=\"text/javascript\">\n",
       "  \n",
       "  (function(global) {\n",
       "    function now() {\n",
       "      return new Date();\n",
       "    }\n",
       "  \n",
       "    if (typeof (window._bokeh_onload_callbacks) === \"undefined\") {\n",
       "      window._bokeh_onload_callbacks = [];\n",
       "    }\n",
       "  \n",
       "    function run_callbacks() {\n",
       "      window._bokeh_onload_callbacks.forEach(function(callback) { callback() });\n",
       "      delete window._bokeh_onload_callbacks\n",
       "      console.info(\"Bokeh: all callbacks have finished\");\n",
       "    }\n",
       "  \n",
       "    function load_libs(js_urls, callback) {\n",
       "      window._bokeh_onload_callbacks.push(callback);\n",
       "      if (window._bokeh_is_loading > 0) {\n",
       "        console.log(\"Bokeh: BokehJS is being loaded, scheduling callback at\", now());\n",
       "        return null;\n",
       "      }\n",
       "      if (js_urls == null || js_urls.length === 0) {\n",
       "        run_callbacks();\n",
       "        return null;\n",
       "      }\n",
       "      console.log(\"Bokeh: BokehJS not loaded, scheduling load and callback at\", now());\n",
       "      window._bokeh_is_loading = js_urls.length;\n",
       "      for (var i = 0; i < js_urls.length; i++) {\n",
       "        var url = js_urls[i];\n",
       "        var s = document.createElement('script');\n",
       "        s.src = url;\n",
       "        s.async = false;\n",
       "        s.onreadystatechange = s.onload = function() {\n",
       "          window._bokeh_is_loading--;\n",
       "          if (window._bokeh_is_loading === 0) {\n",
       "            console.log(\"Bokeh: all BokehJS libraries loaded\");\n",
       "            run_callbacks()\n",
       "          }\n",
       "        };\n",
       "        s.onerror = function() {\n",
       "          console.warn(\"failed to load library \" + url);\n",
       "        };\n",
       "        console.log(\"Bokeh: injecting script tag for BokehJS library: \", url);\n",
       "        document.getElementsByTagName(\"head\")[0].appendChild(s);\n",
       "      }\n",
       "    };var element = document.getElementById(\"09d56ba2-69c5-438a-b566-317096cce811\");\n",
       "    if (element == null) {\n",
       "      console.log(\"Bokeh: ERROR: autoload.js configured with elementid '09d56ba2-69c5-438a-b566-317096cce811' but no matching script tag was found. \")\n",
       "      return false;\n",
       "    }\n",
       "  \n",
       "    var js_urls = [];\n",
       "  \n",
       "    var inline_js = [\n",
       "      function(Bokeh) {\n",
       "        Bokeh.$(function() {\n",
       "            var docs_json = {\"4cc971ab-55e4-4e58-bd57-b418cfcf6cc1\":{\"roots\":{\"references\":[{\"attributes\":{\"plot\":{\"id\":\"d73ac4da-c1be-46bd-a9ad-12a16a21e0df\",\"type\":\"GMapPlot\"}},\"id\":\"01677466-9a5f-4c2b-a207-622f9403d04e\",\"type\":\"ResetTool\"},{\"attributes\":{\"data_source\":{\"id\":\"a28fbb34-951d-43a3-98ac-eb88c6e119ec\",\"type\":\"ColumnDataSource\"},\"glyph\":{\"id\":\"28095aaa-d01c-4995-afc3-1546e31c0571\",\"type\":\"Circle\"},\"hover_glyph\":null,\"nonselection_glyph\":null,\"selection_glyph\":null},\"id\":\"41fbbf05-7a55-4ff9-92c2-1f2687c539dc\",\"type\":\"GlyphRenderer\"},{\"attributes\":{\"callback\":null},\"id\":\"f7ede5f6-6cc2-4f83-8ec3-666b2776e24b\",\"type\":\"DataRange1d\"},{\"attributes\":{\"plot\":{\"id\":\"d73ac4da-c1be-46bd-a9ad-12a16a21e0df\",\"type\":\"GMapPlot\"}},\"id\":\"da1bc92e-4ac0-4151-80c4-276a9890f8f1\",\"type\":\"WheelZoomTool\"},{\"attributes\":{\"bottom_units\":\"screen\",\"fill_alpha\":{\"value\":0.5},\"fill_color\":{\"value\":\"lightgrey\"},\"left_units\":\"screen\",\"level\":\"overlay\",\"line_alpha\":{\"value\":1.0},\"line_color\":{\"value\":\"black\"},\"line_dash\":[4,4],\"line_width\":{\"value\":2},\"plot\":null,\"render_mode\":\"css\",\"right_units\":\"screen\",\"top_units\":\"screen\"},\"id\":\"405c2654-0f7a-4547-9e89-5f7926da0646\",\"type\":\"BoxAnnotation\"},{\"attributes\":{},\"id\":\"90480ce8-e4f2-4ec8-b1c9-0ea7fadc16df\",\"type\":\"ToolEvents\"},{\"attributes\":{\"plot\":{\"id\":\"d73ac4da-c1be-46bd-a9ad-12a16a21e0df\",\"type\":\"GMapPlot\"}},\"id\":\"0a5b9e88-972e-43fd-92c2-f10dc71d845c\",\"type\":\"PanTool\"},{\"attributes\":{\"callback\":null,\"plot\":{\"id\":\"d73ac4da-c1be-46bd-a9ad-12a16a21e0df\",\"type\":\"GMapPlot\"},\"tooltips\":\"\\n        <div>\\n            <div>\\n                \\n            </div>\\n            <div>\\n                <span style=\\\"font-size: 30px; font-weight: bold;\\\">PCP Site @desc</span> \\n            </div>\\n            <div>\\n                <span> \\b </span>\\n            </div>\\n            <div>\\n                <span style=\\\"font-size: 17px; font-weight: bold;\\\">Gurobi: </span> \\n            </div>\\n                <div>\\n                <span style=\\\"font-size: 15px; font-weight: bold; color: #ff4d4d;\\\">@select_center_Gurobi</span>\\n            </div>\\n            <div>\\n                <span> \\b </span>\\n            </div>\\n            <div>\\n                <span style=\\\"font-size: 17px; font-weight: bold;\\\">CPLEX</span> \\n            \\n            <div>\\n                <span style=\\\"font-size: 14px; font-weight: bold; color: #00b300;\\\">@select_center_CPLEX</span>\\n            </div>\\n            <div>\\n                <span> \\b </span>\\n            </div>\\n            <div>\\n                <span style=\\\"font-size: 17px; font-weight: bold;\\\">COIN-OR</span> \\n            </div>\\n            <div>\\n                <span style=\\\"font-size: 14px; font-weight: bold; color: #3385ff;\\\">@select_center_COIN</span>\\n            </div>\\n        </div>\"},\"id\":\"65bad80e-f8fc-4742-a749-e208dd374f04\",\"type\":\"HoverTool\"},{\"attributes\":{\"fill_alpha\":{\"value\":0.6},\"fill_color\":{\"value\":\"yellow\"},\"line_color\":{\"value\":null},\"size\":{\"units\":\"screen\",\"value\":10},\"x\":{\"field\":\"lon\"},\"y\":{\"field\":\"lat\"}},\"id\":\"28095aaa-d01c-4995-afc3-1546e31c0571\",\"type\":\"Circle\"},{\"attributes\":{\"callback\":null,\"column_names\":[\"select_center_CPLEX\",\"lat\",\"select_center_Gurobi\",\"select_center_COIN\",\"lon\",\"desc\"],\"data\":{\"desc\":[\"y1\",\"y2\",\"y3\",\"y4\",\"y5\",\"y6\",\"y7\",\"y8\",\"y9\",\"y10\",\"y11\",\"y12\",\"y13\",\"y14\",\"y15\"],\"lat\":[30.499246668252116,30.49917381174523,30.47929820744781,30.47371781293342,30.489228796855876,30.492922856999307,30.49134976644918,30.495059268947575,30.481445281344815,30.486482498075773,30.49283049498473,30.491135540079387,30.47966235006356,30.47675510437454,30.47560426874434],\"lon\":[-84.25458736271531,-84.26023925658053,-84.27585626736538,-84.2749096970277,-84.25877336682262,-84.25351792090434,-84.26329995297486,-84.25649844935712,-84.27551524998843,-84.26323040230577,-84.27009850237198,-84.26565156064473,-84.26737824681024,-84.26426111125926,-84.26390146108491],\"select_center_COIN\":[\" -- \",\" -- \",\" -- \",\" Selected \",\" -- \",\" Selected \",\" Selected \",\" -- \",\" Selected \",\" -- \",\" -- \",\" -- \",\" -- \",\" Selected \",\" -- \"],\"select_center_CPLEX\":[\" -- \",\" -- \",\" -- \",\" Selected \",\" -- \",\" Selected \",\" Selected \",\" -- \",\" Selected \",\" -- \",\" -- \",\" -- \",\" -- \",\" -- \",\" Selected \"],\"select_center_Gurobi\":[\" -- \",\" -- \",\" -- \",\" Selected \",\" -- \",\" Selected \",\" Selected \",\" -- \",\" Selected \",\" -- \",\" -- \",\" -- \",\" -- \",\" Selected \",\" -- \"]}},\"id\":\"a28fbb34-951d-43a3-98ac-eb88c6e119ec\",\"type\":\"ColumnDataSource\"},{\"attributes\":{\"callback\":null},\"id\":\"8e9d741a-530c-49e7-92f7-7b49fdfcf5ab\",\"type\":\"DataRange1d\"},{\"attributes\":{\"map_options\":{\"lat\":30.4855,\"lng\":-84.265,\"map_type\":\"hybrid\",\"zoom\":14},\"renderers\":[{\"id\":\"41fbbf05-7a55-4ff9-92c2-1f2687c539dc\",\"type\":\"GlyphRenderer\"},{\"id\":\"405c2654-0f7a-4547-9e89-5f7926da0646\",\"type\":\"BoxAnnotation\"}],\"title\":\"Waverly Hills\",\"tool_events\":{\"id\":\"90480ce8-e4f2-4ec8-b1c9-0ea7fadc16df\",\"type\":\"ToolEvents\"},\"tools\":[{\"id\":\"0a5b9e88-972e-43fd-92c2-f10dc71d845c\",\"type\":\"PanTool\"},{\"id\":\"da1bc92e-4ac0-4151-80c4-276a9890f8f1\",\"type\":\"WheelZoomTool\"},{\"id\":\"8df8c41f-820d-4875-b20a-c64ecfcae195\",\"type\":\"BoxSelectTool\"},{\"id\":\"01677466-9a5f-4c2b-a207-622f9403d04e\",\"type\":\"ResetTool\"},{\"id\":\"65bad80e-f8fc-4742-a749-e208dd374f04\",\"type\":\"HoverTool\"}],\"x_range\":{\"id\":\"8e9d741a-530c-49e7-92f7-7b49fdfcf5ab\",\"type\":\"DataRange1d\"},\"y_range\":{\"id\":\"f7ede5f6-6cc2-4f83-8ec3-666b2776e24b\",\"type\":\"DataRange1d\"}},\"id\":\"d73ac4da-c1be-46bd-a9ad-12a16a21e0df\",\"type\":\"GMapPlot\"},{\"attributes\":{\"callback\":null,\"overlay\":{\"id\":\"405c2654-0f7a-4547-9e89-5f7926da0646\",\"type\":\"BoxAnnotation\"},\"plot\":{\"id\":\"d73ac4da-c1be-46bd-a9ad-12a16a21e0df\",\"type\":\"GMapPlot\"}},\"id\":\"8df8c41f-820d-4875-b20a-c64ecfcae195\",\"type\":\"BoxSelectTool\"}],\"root_ids\":[\"d73ac4da-c1be-46bd-a9ad-12a16a21e0df\"]},\"title\":\"Bokeh Application\",\"version\":\"0.11.1\"}};\n",
       "            var render_items = [{\"docid\":\"4cc971ab-55e4-4e58-bd57-b418cfcf6cc1\",\"elementid\":\"09d56ba2-69c5-438a-b566-317096cce811\",\"modelid\":\"d73ac4da-c1be-46bd-a9ad-12a16a21e0df\",\"notebook_comms_target\":\"0c182c07-38cc-4074-a8af-7850ff396881\"}];\n",
       "            \n",
       "            Bokeh.embed.embed_items(docs_json, render_items);\n",
       "        });\n",
       "      },\n",
       "      function(Bokeh) {\n",
       "      }\n",
       "    ];\n",
       "  \n",
       "    function run_inline_js() {\n",
       "      for (var i = 0; i < inline_js.length; i++) {\n",
       "        inline_js[i](window.Bokeh);\n",
       "      }\n",
       "    }\n",
       "  \n",
       "    if (window._bokeh_is_loading === 0) {\n",
       "      console.log(\"Bokeh: BokehJS loaded, going straight to plotting\");\n",
       "      run_inline_js();\n",
       "    } else {\n",
       "      load_libs(js_urls, function() {\n",
       "        console.log(\"Bokeh: BokehJS plotting callback run at\", now());\n",
       "        run_inline_js();\n",
       "      });\n",
       "    }\n",
       "  }(this));\n",
       "</script>"
      ]
     },
     "metadata": {},
     "output_type": "display_data"
    },
    {
     "name": "stdout",
     "output_type": "stream",
     "text": [
      "['y4', 'y6', 'y7', 'y9', 'y14']\n",
      "['y4', 'y6', 'y7', 'y9', 'y15']\n",
      "['y9', 'y4', 'y7', 'y6', 'y14']\n"
     ]
    }
   ],
   "source": [
    "Gurobi_sites = []\n",
    "for y in y_list:\n",
    "    if y in selected_Gurobi_PCP:\n",
    "        Gurobi_sites.append(' Selected ')\n",
    "    else:\n",
    "        Gurobi_sites.append(' -- ')\n",
    "CPLEX_sites = []\n",
    "for y in y_list:\n",
    "    if y in cplex_vars:\n",
    "        CPLEX_sites.append(' Selected ')\n",
    "    else:\n",
    "        CPLEX_sites.append(' -- ')\n",
    "COIN_sites = []\n",
    "for y in y_list:\n",
    "    if y in selected_COIN_PCP:\n",
    "        COIN_sites.append(' Selected ')\n",
    "    else:\n",
    "        COIN_sites.append(' -- ')\n",
    "\n",
    "map_options = GMapOptions(lat=30.4855, lng=-84.265, map_type=\"hybrid\", zoom=14)\n",
    "\n",
    "plot = GMapPlot(\n",
    "    x_range=DataRange1d(), \n",
    "    y_range=DataRange1d(), \n",
    "    map_options=map_options, title=\"Waverly Hills\")\n",
    "\n",
    "hover = HoverTool(tooltips=\"\"\"\n",
    "        <div>\n",
    "            <div>\n",
    "                \n",
    "            </div>\n",
    "            <div>\n",
    "                <span style=\"font-size: 30px; font-weight: bold;\">PCP Site @desc</span> \n",
    "            </div>\n",
    "            <div>\n",
    "                <span> \\b </span>\n",
    "            </div>\n",
    "            <div>\n",
    "                <span style=\"font-size: 17px; font-weight: bold;\">Gurobi: </span> \n",
    "            </div>\n",
    "                <div>\n",
    "                <span style=\"font-size: 15px; font-weight: bold; color: #ff4d4d;\">@select_center_Gurobi</span>\n",
    "            </div>\n",
    "            <div>\n",
    "                <span> \\b </span>\n",
    "            </div>\n",
    "            <div>\n",
    "                <span style=\"font-size: 17px; font-weight: bold;\">CPLEX</span> \n",
    "            \n",
    "            <div>\n",
    "                <span style=\"font-size: 14px; font-weight: bold; color: #00b300;\">@select_center_CPLEX</span>\n",
    "            </div>\n",
    "            <div>\n",
    "                <span> \\b </span>\n",
    "            </div>\n",
    "            <div>\n",
    "                <span style=\"font-size: 17px; font-weight: bold;\">COIN-OR</span> \n",
    "            </div>\n",
    "            <div>\n",
    "                <span style=\"font-size: 14px; font-weight: bold; color: #3385ff;\">@select_center_COIN</span>\n",
    "            </div>\n",
    "        </div>\"\"\")\n",
    "\n",
    "source_1 = ColumnDataSource(\n",
    "        data=dict(\n",
    "        lat=Service_Lat_List,\n",
    "        lon=Service_Lon_List,\n",
    "        desc=y_list,\n",
    "        select_center_Gurobi=Gurobi_sites,\n",
    "        select_center_CPLEX=CPLEX_sites,\n",
    "        select_center_COIN=COIN_sites))\n",
    "\n",
    "facilties = Circle(x=\"lon\", y=\"lat\", \n",
    "                   size=10, fill_color=\"yellow\", \n",
    "                   fill_alpha=0.6, line_color=None)\n",
    "\n",
    "plot.add_glyph(source_1, facilties)\n",
    "\n",
    "plot.add_tools(PanTool(), WheelZoomTool(), BoxSelectTool(), ResetTool(), hover)\n",
    "output_file(\"gmap_plot.html\")\n",
    "show(plot)"
   ]
  },
  {
   "cell_type": "markdown",
   "metadata": {},
   "source": [
    "---"
   ]
  },
  {
   "cell_type": "markdown",
   "metadata": {},
   "source": [
    "### System Specs"
   ]
  },
  {
   "cell_type": "code",
   "execution_count": 53,
   "metadata": {
    "collapsed": false
   },
   "outputs": [
    {
     "data": {
      "text/html": [
       "<div>\n",
       "<table border=\"1\" class=\"dataframe\">\n",
       "  <thead>\n",
       "    <tr style=\"text-align: right;\">\n",
       "      <th>Platform &amp; Software Specs</th>\n",
       "      <th>Version</th>\n",
       "    </tr>\n",
       "  </thead>\n",
       "  <tbody>\n",
       "    <tr>\n",
       "      <th>OSX</th>\n",
       "      <td>10.11.3</td>\n",
       "    </tr>\n",
       "    <tr>\n",
       "      <th>Processor</th>\n",
       "      <td>i386</td>\n",
       "    </tr>\n",
       "    <tr>\n",
       "      <th>Machine</th>\n",
       "      <td>x86_64</td>\n",
       "    </tr>\n",
       "    <tr>\n",
       "      <th>Python</th>\n",
       "      <td>2.7.10</td>\n",
       "    </tr>\n",
       "    <tr>\n",
       "      <th>PySAL</th>\n",
       "      <td>1.11.0</td>\n",
       "    </tr>\n",
       "    <tr>\n",
       "      <th>Gurobi</th>\n",
       "      <td>(6, 5, 0)</td>\n",
       "    </tr>\n",
       "    <tr>\n",
       "      <th>Pandas</th>\n",
       "      <td>0.17.1</td>\n",
       "    </tr>\n",
       "    <tr>\n",
       "      <th>GeoPandas</th>\n",
       "      <td>0.1.1</td>\n",
       "    </tr>\n",
       "    <tr>\n",
       "      <th>Shapely</th>\n",
       "      <td>1.5.13</td>\n",
       "    </tr>\n",
       "    <tr>\n",
       "      <th>NumPy</th>\n",
       "      <td>1.9.2</td>\n",
       "    </tr>\n",
       "    <tr>\n",
       "      <th>Bokeh</th>\n",
       "      <td>0.11.1</td>\n",
       "    </tr>\n",
       "    <tr>\n",
       "      <th>CyLP</th>\n",
       "      <td>0.7.1</td>\n",
       "    </tr>\n",
       "    <tr>\n",
       "      <th>Date &amp; Time</th>\n",
       "      <td>2016-02-27 18:13:05.996735</td>\n",
       "    </tr>\n",
       "  </tbody>\n",
       "</table>\n",
       "</div>"
      ],
      "text/plain": [
       "Platform & Software Specs                     Version\n",
       "OSX                                           10.11.3\n",
       "Processor                                        i386\n",
       "Machine                                        x86_64\n",
       "Python                                         2.7.10\n",
       "PySAL                                          1.11.0\n",
       "Gurobi                                      (6, 5, 0)\n",
       "Pandas                                         0.17.1\n",
       "GeoPandas                                       0.1.1\n",
       "Shapely                                        1.5.13\n",
       "NumPy                                           1.9.2\n",
       "Bokeh                                          0.11.1\n",
       "CyLP                                            0.7.1\n",
       "Date & Time                2016-02-27 18:13:05.996735"
      ]
     },
     "execution_count": 53,
     "metadata": {},
     "output_type": "execute_result"
    }
   ],
   "source": [
    "import datetime as dt\n",
    "import os\n",
    "import platform\n",
    "import sys\n",
    "import bokeh\n",
    "import cylp\n",
    "\n",
    "names = ['OSX', 'Processor ', 'Machine ', 'Python ','PySAL ','Gurobi ','Pandas ','GeoPandas ',\n",
    "         'Shapely ', 'NumPy ', 'Bokeh ', 'CyLP', 'Date & Time']\n",
    "versions = [platform.mac_ver()[0], platform.processor(), platform.machine(), platform.python_version(),\n",
    "            ps.version, gbp.gurobi.version(), pd.__version__, gpd.__version__, \n",
    "            str(shapely.__version__), np.__version__, \n",
    "            bokeh.__version__, '0.7.1', dt.datetime.now()]\n",
    "specs = pd.DataFrame(index=names, columns=['Version'])\n",
    "specs.columns.name = 'Platform & Software Specs'\n",
    "specs['Version'] = versions\n",
    "specs # Pandas DF of specifications"
   ]
  },
  {
   "cell_type": "markdown",
   "metadata": {},
   "source": [
    "---"
   ]
  },
  {
   "cell_type": "markdown",
   "metadata": {},
   "source": [
    "### email $\\Longrightarrow$ jgaboardi@fsu.edu \n",
    "### GitHub $\\Longrightarrow$ https://github.com/jGaboardi\n",
    "### LinkedIn $\\Longrightarrow$ https://www.linkedin.com/in/jamesgaboardi\n",
    "### Florida State University $\\Longrightarrow$ http://geography.fsu.edu/people/james-gaboardi/"
   ]
  },
  {
   "cell_type": "markdown",
   "metadata": {},
   "source": [
    "---"
   ]
  },
  {
   "cell_type": "markdown",
   "metadata": {},
   "source": [
    "### References"
   ]
  },
  {
   "cell_type": "markdown",
   "metadata": {},
   "source": [
    "- Behnel, S., R. Bradshaw, C. Citro, L. Dalcin, D. S. Seljebotn, and K. Smith. 2011. Cython: The best of both worlds. Computing in Science and Engineering 13 (2):31–39.\n",
    "\n",
    "- Bokeh Development Team. 2014. Bokeh: Python library for interactive visualization.\n",
    "\n",
    "- Church, R. L. 2002. Geographical information systems and location science. Computers and Operations Research 29:541–562.\n",
    "\n",
    "- Church, R. L., and A. T. Murray. 2009. Business Site Selections, Locational Analysis, and GIS. Hoboken, NJ, USA: John Wiley & Sons, Inc.\n",
    "\n",
    "- Conde, E. 2008. A note on the minmax regret centdian location on trees. Operations Research Letters 36 (2):271–275.\n",
    "\n",
    "- Current, J., M. S. Daskin, and D. A. Schilling. 2002. Discrete Network Location Models. In Facility Location Applications and Theory, eds. Z. Drezner and H. W. Hamacher, 81–118. New York: Springer Berlin Heidelberg.\n",
    "\n",
    "- Dan Fylstra, L. Hafer, B. Hart, B. Kristjannson, C. Phillips, T. Ralphs, (Matthew Saltzman, E. Straver, (Jean-Paul Watson, and H. G. Santos. CBC. https://projects.coin-or.org/Cbc.\n",
    "\n",
    "- Daskin, M. 2013. Network and Discrete Location: Models, Algorithms and Applications 2nd ed. Hoboken, NJ, USA: John Wiley & Sons, Inc.\n",
    "\n",
    "- Daskin, M. S. 2008. What You Should Know About Location Modeling. Naval Research Logistics 55 (2):283–294.\n",
    "\n",
    "- GeoPandas Developers. 2013. GeoPandas. http://geopandas.org.\n",
    "\n",
    "- Gillies, S., A. Bierbaum, and K. Lautaportti. 2013. Shapely.\n",
    "\n",
    "- Gurobi. 2013. Gurobi optimizer quick start guide.\n",
    "\n",
    "- Hagberg, A. A., D. A. Schult, and P. J. Swart. 2008. Exploring network structure, dynamics, and function using NetworkX. Proceedings of the 7th Python in Science Conference (SciPy 2008) (SciPy):11–15.\n",
    "\n",
    "- Hakimi, S. L. 1964. Optimum Locations of Switching Centers and the Absolute Centers and Medians of a Graph. Operations Research 12 (3):450–459.\n",
    "\n",
    "- Hall, J., L. Hafer, M. Saltzman, and J. Forrest. CLP.\n",
    "\n",
    "- Halpern, J. 1976. The Location of a Center-Median Convex Combination on an Undirected Tree. Journal of Regional Science 16 (2):237–245.\n",
    "\n",
    "- Hamacher, H. W., and S. Nickel. 1998. Classification of location models. Location Science 6 (1-4):229–242.\n",
    "\n",
    "- Horner, M. W., and M. J. Widener. 2010. How do socioeconomic characteristics interact with equity and efficiency considerations? An analysis of hurricane disaster relief goods provision. Geospatial Analysis and Modelling of Urban Structure and Dynamics 99:393–414.\n",
    "\n",
    "- Horner, M. W., and M. J. Widener. 2011. The effects of transportation network failure on people’s accessibility to hurricane disaster relief goods: A modeling approach and application to a Florida case study. Natural Hazards 59:1619–1634.\n",
    "\n",
    "- Hunter, J. D. 2007. Matplotlib: A 2D graphics environment. Computing in Science and Engineering 9 (3):99–104.\n",
    "\n",
    "- Lima, I. 2006. Python for Scientific Computing Python Overview. Marine Chemistry :10–20.\n",
    "\n",
    "- Lougee-Heimer, R. 2003. The Common Optimization INterface for Operations Research. IBM Journal of Research and Development 47 (1):57–66.\n",
    "\n",
    "- Marcelin, J. M., M. W. Horner, E. E. Ozguven, and A. Kocatepe. 2016. How does accessibility to post-disaster relief compare between the aging and the general population? A spatial network optimization analysis of hurricane relief facility locations. International Journal of Disaster Risk Reduction 15:61–72.\n",
    "\n",
    "- McKinney, W. 2010. Data Structures for Statistical Computing in Python. In Proceedings of the 9th Python in Science Conference, 51–56.\n",
    "\n",
    "- Miller, H. J., and S.-L. Shaw. 2001. Geographic Information Systems for Transportation. New York: Oxford University Press.\n",
    "\n",
    "- Millman, K. J., and M. Aivazis. 2011. Python for scientists and engineers. Computing in Science and Engineering 13 (2):9–12.\n",
    "\n",
    "- Minieka, E. 1970. The m-Center Problem. SIAM Review 12:38–39.\n",
    "\n",
    "- Owen, S. H., and M. S. Daskin. 1998. Strategic facility location: A review. European Journal of Operational Research 111 (3):423–447.\n",
    "\n",
    "- Pérez, F., and B. E. Granger. 2007. IPython: A system for interactive scientific computing. Computing in Science and Engineering 9 (3):21–29.\n",
    "\n",
    "- Pérez-Brito, D., J. A. Moreno-Pérez, and R.-M. Inmaculada. 1997. Finite dominating set for the p-facility cent-dian network location problem. Studies in Locational Analysis (August):1–16.\n",
    "\n",
    "- Pérez-Brito, D., J. A. Moreno-Pérez, and I. Rodrı́guez-Martı́n. 1998. The 2-facility centdian network problem. Location Science 6 (1-4):369–381.\n",
    "\n",
    "- QGIS Development Team. Open Source Geospatial Foundation Project. 2016. QGIS Geographic Information System.\n",
    "\n",
    "- ReVelle, C. S., and R. W. Swain. 1970. Central facilities location. Geographical Analysis 2 (1):30–42.\n",
    "\n",
    "- Rey, S. J., and L. Anselin. 2010. PySAL: A Python Library of Spatial Analytical Methods. In Handbook of Applied Spatial Analysis, eds. M. M. Fischer and A. Getis, 175–193. Springer Berlin Heidelberg.\n",
    "\n",
    "- Shier, D. R. 1977. A Min–Max Theorem for p-Center Problems on a Tree. Transportation Science 11:243–52.\n",
    "\n",
    "- Suzuki, A., and Z. Drezner. 1996. The p-center location problem in an area. Location Science 4 (1-2):69–82.\n",
    "\n",
    "- Tamir, A., J. Puerto, and D. Pérez-Brito. 2002. The centdian subtree on tree networks. Discrete Applied Mathematics 118 (3):263–278.\n",
    "\n",
    "- Teitz, M. B., and P. Bart. 1968. Heuristic Methods for Estimating the Generalized Vertex Median of a Weighted Graph. Operations Research 16 (5):955–961.\n",
    "\n",
    "- Tong, D., and A. T. Murray. 2012. Spatial Optimization in Geography. Annals of the Association of American Geographers 102 (6):1290–1309.\n",
    "\n",
    "- Towhidi, M., and D. Orban. 2011. CyLP.\n",
    "\n",
    "- US Census Bureau. 2015. TIGER/Line® Shapefiles and TIGER/Line® Files. U.S. Census Bureau Geography. https://www.census.gov/geo/maps-data/data/tiger-line.html.\n",
    "\n",
    "- Walt, S. van der, S. C. Colbert, and G. Varoquaux. 2011. The NumPy Array: A Struture for Efficient Numerical Computation. Computing in Science & Engeneering 13:22–30.\n",
    "\n",
    "- William, R. 1971. The M-center problem."
   ]
  },
  {
   "cell_type": "markdown",
   "metadata": {},
   "source": [
    "-------------"
   ]
  }
 ],
 "metadata": {
  "kernelspec": {
   "display_name": "Python 2",
   "language": "python",
   "name": "python2"
  },
  "language_info": {
   "codemirror_mode": {
    "name": "ipython",
    "version": 2
   },
   "file_extension": ".py",
   "mimetype": "text/x-python",
   "name": "python",
   "nbconvert_exporter": "python",
   "pygments_lexer": "ipython2",
   "version": "2.7.10"
  }
 },
 "nbformat": 4,
 "nbformat_minor": 0
}
