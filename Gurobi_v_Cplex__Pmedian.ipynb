{
 "cells": [
  {
   "cell_type": "markdown",
   "metadata": {},
   "source": [
    "---------------"
   ]
  },
  {
   "cell_type": "markdown",
   "metadata": {},
   "source": [
    "<font size='5' face='Courier New'><h1 align=\"center\"><i>Optimizer Performance Comparison in Python v2.7 with the p-Median Problem</i></h1></font> \n",
    "\n",
    "------\n",
    "\n",
    "---\n",
    "\n",
    "<font size='4' face='Arial'><h1 align=\"center\"><i>Gurobi Optimizer v6.0.2</i></h1></font>\n",
    "<font size='4' face='Arial'><h1 align=\"center\"><i>vs.</i></h1></font>\n",
    "<font size='4' face='Arial'><h1 align=\"center\"><i>IBM ILOG CPLEX Optimizer v12.6.0</i></h1></font>\n",
    "\n",
    "----\n",
    "\n",
    "---\n",
    "\n",
    "<font size='4' face='Arial'><h1 align=\"center\"><i>PySAL v1.10.0</i></h1></font>\n",
    "\n",
    "-------"
   ]
  },
  {
   "cell_type": "markdown",
   "metadata": {},
   "source": [
    "<font face='Times New Roman' size='6'><h3 align=\"center\"><u>*James&nbsp;D.&nbsp;Gaboardi*</u></h3></font>\n",
    "\n",
    "------\n",
    "<font face='Times New Roman' size='5'><h3 align=\"center\">*Florida State University* &nbsp;&nbsp;&nbsp;&nbsp;|&nbsp;&nbsp;&nbsp;&nbsp; *Department of Geography*</h3></font>\n",
    "\n",
    "------"
   ]
  },
  {
   "cell_type": "markdown",
   "metadata": {},
   "source": [
    "<font size='3' face='Times New Roman'><p><b>GNU LESSER GENERAL PUBLIC LICENSE</b></p>\n",
    "<p><i>Version 3, 29 June 2007</i></p>\n",
    "<p> Copyright (C) 2007 Free Software Foundation, Inc. <http://fsf.org/></p>\n",
    "<p> Everyone is permitted to copy and distribute verbatim copies\n",
    " of this license document, but changing it is not allowed.</p></font>\n",
    " \n",
    " ----"
   ]
  },
  {
   "cell_type": "markdown",
   "metadata": {},
   "source": [
    "<font size='7' face='Times New Roman'><b><u>The <i>p</i>-Median Problem</u></b></font>"
   ]
  },
  {
   "cell_type": "markdown",
   "metadata": {},
   "source": [
    "\n",
    "-------------------------------\n",
    "\n",
    "<p><font size='5' face='Courier New'><u>Minimize</u></font></p>\n",
    "\n",
    "<p><font size='6' face='Times New Roman'>&nbsp;&nbsp;&nbsp;&nbsp;&nbsp;&nbsp;&nbsp;&nbsp;$\\sum_{i∊1}^n\\sum_{j∊1}^m$<i>&thinsp; a<sub>i</sub>c<sub>ij</sub>x<sub>ij</sub></i></font></p>\n",
    "\n",
    "<p><font size='5' face='Courier New'><u>Subject to</u></font></p>\n",
    "\n",
    "<p><font size='6' face='Times New Roman'>&nbsp;&nbsp;&nbsp;&nbsp;&nbsp;&nbsp;&nbsp;&nbsp;$∑_{j∊m}$<i>x<sub>ij</sub></i> = 1,&nbsp;&nbsp;&nbsp;&nbsp;∀<i> i</i> ∊<i> n</i></font></p>\n",
    "\n",
    "<p><font size='6' face='Times New Roman'>&nbsp;&nbsp;&nbsp;&nbsp;&nbsp;&nbsp;&nbsp;&nbsp;$∑_{i∊n}$<i>y<sub>j</sub> = p</i></font></p>\n",
    "\n",
    "<p><font size='6' face='Times New Roman'>&nbsp;&nbsp;&nbsp;&nbsp;&nbsp;&nbsp;&nbsp;&nbsp;<i>x<sub>ij</sub> - y<sub>j</sub></i> ≥ 0,&nbsp;&nbsp;&nbsp;&nbsp;&nbsp;&nbsp; ∀<i> i</i> ∊<i> n</i>, <i> j</i> ∊<i> m</i></font></p>\n",
    "\n",
    "<p><font size='6' face='Times New Roman'>&nbsp;&nbsp;&nbsp;&nbsp;&nbsp;&nbsp;&nbsp;&nbsp;<i>x<sub>ij</sub>, y<sub>j</sub></i> ∊(0,1)&nbsp;&nbsp;&nbsp;&nbsp; ∀<i> i</i> ∊<i> n</i>, <i> j</i> ∊<i> m</i></font></p>\n",
    "\n",
    "<p><font size='5' face='Courier New'><u>where</u></font></p>\n",
    "\n",
    "<p><font size='5' face='Times New Roman'>&nbsp;&nbsp;&nbsp;&nbsp;&nbsp;&nbsp;&nbsp;&nbsp;&nbsp;−\t<i> i</i> = a specific origin</font></p>\n",
    "<p><font size='5' face='Times New Roman'>&nbsp;&nbsp;&nbsp;&nbsp;&nbsp;&nbsp;&nbsp;&nbsp;&nbsp;−\t<i> j</i> = a specific destination</font></p>\n",
    "<p><font size='5' face='Times New Roman'>&nbsp;&nbsp;&nbsp;&nbsp;&nbsp;&nbsp;&nbsp;&nbsp;&nbsp;−\t<i> n</i> = the set of origins</font></p>\n",
    "<p><font size='5' face='Times New Roman'>&nbsp;&nbsp;&nbsp;&nbsp;&nbsp;&nbsp;&nbsp;&nbsp;&nbsp;−\t<i> m</i> = the set of destinations</font></p>\n",
    "<p><font size='5' face='Times New Roman'>&nbsp;&nbsp;&nbsp;&nbsp;&nbsp;&nbsp;&nbsp;&nbsp;&nbsp;−\t<i> a<sub>i</sub></i> = weight at each node</font></p>\n",
    "<p><font size='5' face='Times New Roman'>&nbsp;&nbsp;&nbsp;&nbsp;&nbsp;&nbsp;&nbsp;&nbsp;&nbsp;−\t<i> c<sub>ij</sub></i> = travel costs between nodes</font></p>\n",
    "<p><font size='5' face='Times New Roman'>&nbsp;&nbsp;&nbsp;&nbsp;&nbsp;&nbsp;&nbsp;&nbsp;&nbsp;−\t<i> x<sub>ij</sub></i> = the decision variable at each node in the matrix</font></p>\n",
    "<p><font size='5' face='Times New Roman'>&nbsp;&nbsp;&nbsp;&nbsp;&nbsp;&nbsp;&nbsp;&nbsp;&nbsp;−\t<i> y<sub>j</sub></i> = nodes chosen as service facilities</font></p>\n",
    "<p><font size='5' face='Times New Roman'>&nbsp;&nbsp;&nbsp;&nbsp;&nbsp;&nbsp;&nbsp;&nbsp;&nbsp;−\t<i> p</i> = the number of facilities to be sited</font></p>\n",
    "\n",
    "------\n",
    "\n",
    "<p><font size='4' face='Times New Roman'>Adapted from:</font></p>\n",
    "<p><font size='4' face='Times New Roman'><b>Horner, M. W. and M. J. Widener</b>. 2010. <i>How do socioeconomic characteristics interact with equity and efficiency considerations? An analysis of hurricane disaster relief goods provision</i>. Geospatial Analysis and Modelling of Urban Structure and Dynamics 99:393–414.</font></p>\n",
    "\n",
    "-----------"
   ]
  },
  {
   "cell_type": "markdown",
   "metadata": {},
   "source": [
    "<font size='7' face='Times New Roman'><b>0. <u>Imports</u></b></font>"
   ]
  },
  {
   "cell_type": "code",
   "execution_count": null,
   "metadata": {
    "collapsed": false
   },
   "outputs": [],
   "source": [
    "import pysal as ps\n",
    "import numpy as np\n",
    "import networkx as nx\n",
    "import shapefile as shp\n",
    "import gurobipy as gbp\n",
    "import cplex as cp\n",
    "import datetime as dt\n",
    "import time\n",
    "from collections import OrderedDict\n",
    "import IPython.display as IPd\n",
    "%pylab inline\n",
    "from mpl_toolkits.basemap import Basemap"
   ]
  },
  {
   "cell_type": "markdown",
   "metadata": {},
   "source": [
    "<font size='7' face='Times New Roman'><b>1. <u>Data preparation and creation</u></b></font>"
   ]
  },
  {
   "cell_type": "markdown",
   "metadata": {},
   "source": [
    "<font size='5' face='Times New Roman'><b>1.1 <u>Instantiate a network</u></b></font>"
   ]
  },
  {
   "cell_type": "code",
   "execution_count": null,
   "metadata": {
    "collapsed": false,
    "scrolled": true
   },
   "outputs": [],
   "source": [
    "ntw = ps.Network('Waverly/Waverly.shp')\n",
    "print dt.datetime.now()\n",
    "print 'PySAL.Network\\n'\n",
    "print dir(ntw)"
   ]
  },
  {
   "cell_type": "markdown",
   "metadata": {},
   "source": [
    "<font size='5' face='Times New Roman'><b>1.2 <u>Instantiate all graphs to be drawn</u></b></font>"
   ]
  },
  {
   "cell_type": "code",
   "execution_count": null,
   "metadata": {
    "collapsed": true
   },
   "outputs": [],
   "source": [
    "# Roads and Nodes\n",
    "g = nx.Graph()\n",
    "# Graph of Roads and Nodes\n",
    "g1 = nx.MultiGraph()\n",
    "# Clients\n",
    "GRAPH_client = nx.Graph()\n",
    "# Snapped Clients\n",
    "g_client = nx.Graph()\n",
    "# Service\n",
    "GRAPH_service = nx.Graph()\n",
    "# Snapped Service\n",
    "g_service = nx.Graph()\n",
    "# Gurobi p-Median\n",
    "GUROBI_median_g = nx.Graph()\n",
    "# Cplex p-Median\n",
    "CPLEX_median_g = nx.Graph()"
   ]
  },
  {
   "cell_type": "markdown",
   "metadata": {},
   "source": [
    "<font size='5' face='Times New Roman'><b>1.3 <u>Create Bounding Box from 'Waverly.shp'</u></b></font>"
   ]
  },
  {
   "cell_type": "code",
   "execution_count": null,
   "metadata": {
    "collapsed": false
   },
   "outputs": [],
   "source": [
    "shp_W = ps.open('Waverly/Waverly.shp')\n",
    "shp_W.bbox"
   ]
  },
  {
   "cell_type": "markdown",
   "metadata": {},
   "source": [
    "<font size='5' face='Times New Roman'><b>1.4 <u>Create numpy arrays of random floats within a  bounding box</u></b></font>"
   ]
  },
  {
   "cell_type": "code",
   "execution_count": null,
   "metadata": {
    "collapsed": true
   },
   "outputs": [],
   "source": [
    "lat_client = np.random.uniform(shp_W.bbox[0], shp_W.bbox[2], 250)\n",
    "lon_client = np.random.uniform(shp_W.bbox[1], shp_W.bbox[3], 250)\n",
    "lat_service = np.random.uniform(shp_W.bbox[0], shp_W.bbox[2], 100)\n",
    "lon_service = np.random.uniform(shp_W.bbox[1], shp_W.bbox[3], 100)"
   ]
  },
  {
   "cell_type": "markdown",
   "metadata": {},
   "source": [
    "<font size='5' face='Times New Roman'><b>1.5 <u>Zip the latitude and longitude lists together</u></b></font>"
   ]
  },
  {
   "cell_type": "code",
   "execution_count": null,
   "metadata": {
    "collapsed": true
   },
   "outputs": [],
   "source": [
    "rand_coords_client = map(list, zip(lat_client, lon_client))\n",
    "rand_coords_service = map(list, zip(lat_service, lon_service))"
   ]
  },
  {
   "cell_type": "markdown",
   "metadata": {},
   "source": [
    "<font size='5' face='Times New Roman'><b>1.6 <u>Create Empty Random Points Dictionaries</u></b></font>"
   ]
  },
  {
   "cell_type": "code",
   "execution_count": null,
   "metadata": {
    "collapsed": true
   },
   "outputs": [],
   "source": [
    "points_client = {}\n",
    "points_service = {}"
   ]
  },
  {
   "cell_type": "markdown",
   "metadata": {},
   "source": [
    "<font size='5' face='Times New Roman'><b>1.7 <u>Fill dictionaries of random roints</u></b></font>"
   ]
  },
  {
   "cell_type": "code",
   "execution_count": null,
   "metadata": {
    "collapsed": true
   },
   "outputs": [],
   "source": [
    "# CLIENT\n",
    "for idx, coords in enumerate(rand_coords_client):\n",
    "    GRAPH_client.add_node(idx)\n",
    "    points_client[idx] = coords\n",
    "    GRAPH_client.node[idx] = coords\n",
    "# SERVICE   \n",
    "for idx, coords in enumerate(rand_coords_service):\n",
    "    GRAPH_service.add_node(idx)\n",
    "    points_service[idx] = coords\n",
    "    GRAPH_service.node[idx] = coords"
   ]
  },
  {
   "cell_type": "markdown",
   "metadata": {},
   "source": [
    "<font size='5' face='Times New Roman'><b>1.8 <u>Draw network, simplified network, and random client & service nodes</u></b></font>"
   ]
  },
  {
   "cell_type": "code",
   "execution_count": null,
   "metadata": {
    "collapsed": false
   },
   "outputs": [],
   "source": [
    "print dt.datetime.now()\n",
    "#Instantiate Figure\n",
    "figsize(10,10)\n",
    "# Draw Graph of Actual Nodes and Roads\n",
    "for e in ntw.edges:\n",
    "    g.add_edge(*e)\n",
    "nx.draw(g, ntw.node_coords, node_size=5, alpha=0.25, edge_color='r', width=2)\n",
    "# Draw only unique edges in graph\n",
    "for e in ntw.graphedges:\n",
    "    g1.add_edge(*e)\n",
    "    # highlights cases where start and end node are the same\n",
    "    if e[0]==e[1]:\n",
    "        g1.add_node(e[0])\n",
    "for node_id in g1.node:\n",
    "    g1.node[node_id] = ntw.node_coords[node_id]\n",
    "nx.draw(g1, ntw.node_coords, node_size=10, alpha=0.5)\n",
    "# Draw Graph of Random Client Points\n",
    "nx.draw(GRAPH_client, points_client, \n",
    "    node_size=75, alpha=1, node_color='b')\n",
    "# Draw Graph of Random Service Points\n",
    "nx.draw(GRAPH_service, points_service, \n",
    "    node_size=100, alpha=1, node_color='c')\n",
    "# Legend (Ordered Dictionary)\n",
    "LEGEND = OrderedDict()\n",
    "LEGEND['Network Nodes']=g\n",
    "LEGEND['Roads']=g\n",
    "LEGEND['Graph Vertices']=g1\n",
    "LEGEND['Graph Edges']=g1\n",
    "LEGEND['Client Nodes']=GRAPH_client\n",
    "LEGEND['Service Nodes']=GRAPH_service\n",
    "legend(LEGEND, loc='lower right', fancybox=True, framealpha=0.5)\n",
    "\n",
    "# Title\n",
    "title('Waverly Hills\\n Tallahassee, Florida', family='Times New Roman', \n",
    "      size=40, color='k', backgroundcolor='w', weight='bold')\n",
    "# North Arrow and 'N' --> Must be changed for different spatial resolutions, etc.\n",
    "arrow(-84.281, 30.507, 0.0, 0.01, width=.0003, head_width=0.0012, \n",
    "          head_length=0.002, fc='k', ec='k',alpha=0.75,)\n",
    "annotate('N', xy=(-84.2815, 30.52), fontstyle='italic', fontsize='xx-large',\n",
    "            fontweight='heavy', alpha=0.75)"
   ]
  },
  {
   "cell_type": "markdown",
   "metadata": {},
   "source": [
    "<font size='5' face='Times New Roman'><b>1.9 <u>Create weights at nodes and sum</u></b></font>"
   ]
  },
  {
   "cell_type": "code",
   "execution_count": null,
   "metadata": {
    "collapsed": false
   },
   "outputs": [],
   "source": [
    "# Client Weights\n",
    "Ai = np.random.randint(10, 50, len(rand_coords_client))\n",
    "Ai = Ai.reshape(len(Ai),1)\n",
    "# Sum\n",
    "AiSum = np.sum(Ai)"
   ]
  },
  {
   "cell_type": "markdown",
   "metadata": {},
   "source": [
    "<font size='5' face='Times New Roman'><b>1.10 <u>Instantiate client and service shapefiles</u></b></font>"
   ]
  },
  {
   "cell_type": "code",
   "execution_count": null,
   "metadata": {
    "collapsed": true
   },
   "outputs": [],
   "source": [
    "# Client\n",
    "client = shp.Writer(shp.POINT)\n",
    "# Add Random Points\n",
    "for i,j in rand_coords_client:\n",
    "    client.point(i,j)\n",
    "# Add Fields\n",
    "client.field('client_ID')\n",
    "client.field('Weight')\n",
    "client.field('LAT')\n",
    "client.field('LON')\n",
    "counter = 0\n",
    "for i in range(len(rand_coords_client)):\n",
    "    counter = counter + 1\n",
    "    client.record('client_' + str(counter), Ai[i], lat_client[i], lon_client[i])\n",
    "# Save Shapefile    \n",
    "client.save('shapefiles/RandomPoints_CLIENT')\n",
    "\n",
    "#Service\n",
    "service = shp.Writer(shp.POINT)\n",
    "# Add Random Points\n",
    "for i,j in rand_coords_service:\n",
    "    service.point(i,j)\n",
    "# Add Fields\n",
    "service.field('y_ID')\n",
    "service.field('x_ID')\n",
    "service.field('LAT')\n",
    "service.field('LON')\n",
    "counter = 0\n",
    "for i in range(len(rand_coords_service)):\n",
    "    counter = counter + 1\n",
    "    service.record('y' + str(counter), 'x' + str(counter), lat_service[i], lon_service[i])\n",
    "# Save Shapefile    \n",
    "service.save('shapefiles/RandomPoints_SERVICE')"
   ]
  },
  {
   "cell_type": "markdown",
   "metadata": {},
   "source": [
    "<font size='5' face='Times New Roman'><b>1.11 <u>Snap Observations to NTW</u></b></font>"
   ]
  },
  {
   "cell_type": "code",
   "execution_count": null,
   "metadata": {
    "collapsed": false
   },
   "outputs": [],
   "source": [
    "t1 = time.time()\n",
    "ntw.snapobservations('shapefiles/RandomPoints_CLIENT.shp', \n",
    "                     'Rand_Points_CLIENT', attribute=True)\n",
    "ntw.snapobservations('shapefiles/RandomPoints_SERVICE.shp', \n",
    "                     'Rand_Points_SERVICE', attribute=True)\n",
    "print round(time.time()-t1, 4), 'seconds'"
   ]
  },
  {
   "cell_type": "markdown",
   "metadata": {},
   "source": [
    "<font size='5' face='Times New Roman'><b>1.12 <u>Draw NTW, snapped coords, & random coords</u></b></font>"
   ]
  },
  {
   "cell_type": "code",
   "execution_count": null,
   "metadata": {
    "collapsed": false
   },
   "outputs": [],
   "source": [
    "# Instantiate Figure\n",
    "figsize(10,10)\n",
    "# Draw Graph of Roads\n",
    "for e in ntw.edges:\n",
    "    g.add_edge(*e)\n",
    "nx.draw(g, ntw.node_coords, node_size=5, alpha=0.25, edge_color='r', width=2)\n",
    "# Draw Graph of Snapped Client Nodes\n",
    "g_client = nx.Graph()\n",
    "for p,coords in ntw.pointpatterns['Rand_Points_CLIENT'].snapped_coordinates.iteritems():\n",
    "    g_client.add_node(p)\n",
    "    g_client.node[p] = coords\n",
    "nx.draw(g_client, ntw.pointpatterns['Rand_Points_CLIENT'].snapped_coordinates, \n",
    "        node_size=100, alpha=1, node_color='b')\n",
    "# Draw Graph of Snapped Service Nodes\n",
    "g_service = nx.Graph()\n",
    "for p,coords in ntw.pointpatterns['Rand_Points_SERVICE'].snapped_coordinates.iteritems():\n",
    "    g_service.add_node(p)\n",
    "    g_service.node[p] = coords\n",
    "nx.draw(g_service, ntw.pointpatterns['Rand_Points_SERVICE'].snapped_coordinates, \n",
    "        node_size=100, alpha=1, node_color='c')\n",
    "# Draw Graph of Random Client Points\n",
    "nx.draw(GRAPH_client, points_client, \n",
    "    node_size=20, alpha=1, node_color='y')\n",
    "# Draw Graph of Random Client Points\n",
    "nx.draw(GRAPH_service, points_service, \n",
    "    node_size=20, alpha=1, node_color='w')\n",
    "\n",
    "# Legend (Ordered Dictionary)\n",
    "LEGEND = OrderedDict()\n",
    "LEGEND['Network Nodes']=g\n",
    "LEGEND['Roads']=g\n",
    "LEGEND['Snapped Client']=g_client\n",
    "LEGEND['Snapped Service']=g_service\n",
    "LEGEND['Client Nodes']=GRAPH_client\n",
    "LEGEND['Service Nodes']=GRAPH_service\n",
    "legend(LEGEND, loc='lower right', fancybox=True, framealpha=0.5)\n",
    "# Title\n",
    "title('Waverly Hills\\n Tallahassee, Florida', family='Times New Roman', \n",
    "      size=40, color='k', backgroundcolor='w', weight='bold')\n",
    "# North Arrow and 'N' --> Must be changed for different spatial resolutions, etc.\n",
    "arrow(-84.281, 30.507, 0.0, 0.01, width=.0003, head_width=0.0012, \n",
    "          head_length=0.002, fc='k', ec='k',alpha=0.75,)\n",
    "annotate('N', xy=(-84.2815, 30.52), fontstyle='italic', fontsize='xx-large',\n",
    "            fontweight='heavy', alpha=0.75)"
   ]
  },
  {
   "cell_type": "markdown",
   "metadata": {},
   "source": [
    "<font size='5' face='Times New Roman'><b>1.13 <u>Create distance matrix</u></b></font>"
   ]
  },
  {
   "cell_type": "code",
   "execution_count": null,
   "metadata": {
    "collapsed": false
   },
   "outputs": [],
   "source": [
    "t1 = time.time()\n",
    "All_Neigh_Dist = ntw.allneighbordistances(sourcepattern=ntw.pointpatterns['Rand_Points_CLIENT'],\n",
    "                                             destpattern=ntw.pointpatterns['Rand_Points_SERVICE'])\n",
    "All_Dist_MILES = All_Neigh_Dist * float(10000/90) * 0.6214\n",
    "seconds = round(time.time()-t1, 4)\n",
    "print seconds, 'seconds'\n",
    "print 'Client [i] x Service [j] Matrix Shape --> ', All_Dist_MILES.shape"
   ]
  },
  {
   "cell_type": "markdown",
   "metadata": {},
   "source": [
    "----------------------"
   ]
  },
  {
   "cell_type": "markdown",
   "metadata": {},
   "source": [
    "<font size='7' face='Times New Roman'><b>2. <u>Mathematical Optimization</u></b></font>"
   ]
  },
  {
   "cell_type": "markdown",
   "metadata": {},
   "source": [
    "<font size='5' face='Times New Roman'><b>2.1a  <u>Gurobi <i>p</i>-Median test [<i>p</i> = 2]</u></b></font>"
   ]
  },
  {
   "cell_type": "code",
   "execution_count": null,
   "metadata": {
    "collapsed": false
   },
   "outputs": [],
   "source": [
    "t1 = time.time()\n",
    "\n",
    "#     1. Data\n",
    "# Demand\n",
    "Ai = Ai\n",
    "# Demand Sum\n",
    "AiSum = AiSum\n",
    "# Travel Costs\n",
    "Cij = All_Dist_MILES\n",
    "# Weighted Costs\n",
    "Sij = Ai * Cij\n",
    "client_nodes = range(len(Sij))\n",
    "service_nodes = range(len(Sij[0]))\n",
    "\n",
    "mPMP_GUROBI = gbp.Model(' -- p-Median -- ')\n",
    "\n",
    "gbp.setParam('MIPFocus', 2)\n",
    "\n",
    "# Client IxJ\n",
    "client_var = []\n",
    "for orig in client_nodes:\n",
    "    client_var.append([])\n",
    "    for dest in service_nodes:\n",
    "        client_var[orig].append(mPMP_GUROBI.addVar(vtype=gbp.GRB.BINARY, \n",
    "                                            obj=Sij[orig][dest], \n",
    "                                            name='x'+str(orig+1)+'_'+str(dest+1)))\n",
    "#J\n",
    "serv_var = []\n",
    "for dest in service_nodes:\n",
    "    serv_var.append([])\n",
    "    serv_var[dest].append(mPMP_GUROBI.addVar(vtype=gbp.GRB.BINARY, \n",
    "                                    name='y'+str(dest+1)))\n",
    "mPMP_GUROBI.update()\n",
    "mPMP_GUROBI.setObjective(gbp.quicksum(Sij[orig][dest]*client_var[orig][dest] \n",
    "                        for orig in client_nodes for dest in service_nodes), \n",
    "                        gbp.GRB.MINIMIZE)\n",
    "for orig in client_nodes:\n",
    "    mPMP_GUROBI.addConstr(gbp.quicksum(client_var[orig][dest] \n",
    "                        for dest in service_nodes) == 1)\n",
    "for orig in service_nodes:\n",
    "    for dest in client_nodes:\n",
    "        mPMP_GUROBI.addConstr((serv_var[orig] - client_var[dest][orig] >= 0))\n",
    "mPMP_GUROBI.addConstr(gbp.quicksum(serv_var[dest][0] for dest in service_nodes) == 2)\n",
    "mPMP_GUROBI.optimize()\n",
    "t2P = time.time()-t1\n",
    "#mPMP_GUROBI.write('LP_Files/WaverlyPMP_GUROBI.lp')\n",
    "print '\\n*************************************************************************'\n",
    "selected = []\n",
    "dbf1 = ps.open('shapefiles/RandomPoints_SERVICE.dbf')\n",
    "NEW_Records_PMP_GUROBI = []\n",
    "for v in mPMP_GUROBI.getVars():\n",
    "    if 'x' in v.VarName:\n",
    "        pass\n",
    "    elif v.x > 0:\n",
    "        var = '%s' % v.VarName\n",
    "        selected.append(var)\n",
    "        for i in range(dbf1.n_records):\n",
    "            if var in dbf1.read_record(i):\n",
    "                x = dbf1.read_record(i)\n",
    "                NEW_Records_PMP_GUROBI.append(x)\n",
    "            else:\n",
    "                pass\n",
    "        print '    |                                            ', var\n",
    "print '    | Selected Facility Locations --------------  ^^^^ '\n",
    "print '    | Candidate Facilities [p] ----------------- ', len(selected)\n",
    "val = mPMP_GUROBI.objVal\n",
    "print '    | Objective Value (miles) ------------------ ', val\n",
    "avg = float(mPMP_GUROBI.objVal)/float(AiSum)\n",
    "print '    | Avg. Value / Client (miles) -------------- ', avg\n",
    "print '    | Real Time to Optimize (sec.) ------------- ', t2P\n",
    "print '    | Date/Time -------------------------------- ', dt.datetime.now()\n",
    "print '*************************************************************************'\n",
    "print '-- Gurobi p-Median Problem --'\n",
    "print '\\nJames Gaboardi, 2015'"
   ]
  },
  {
   "cell_type": "markdown",
   "metadata": {},
   "source": [
    "<font size='5' face='Times New Roman'><b>2.1b <u>Instantiate Selected Gurobi <i>p</i>-median shapefile</u></b></font>"
   ]
  },
  {
   "cell_type": "code",
   "execution_count": null,
   "metadata": {
    "collapsed": false
   },
   "outputs": [],
   "source": [
    "SHP_Median_GUROBI = shp.Writer(shp.POINT)\n",
    "# Add Points\n",
    "for idy,idx,x,y in NEW_Records_PMP_GUROBI:\n",
    "    SHP_Median_GUROBI.point(float(x), float(y))\n",
    "# Add Fields\n",
    "SHP_Median_GUROBI.field('y_ID')\n",
    "SHP_Median_GUROBI.field('x_ID')\n",
    "SHP_Median_GUROBI.field('LAT')\n",
    "SHP_Median_GUROBI.field('LON')\n",
    "# Add Records\n",
    "for idy,idx,x,y in NEW_Records_PMP_GUROBI:\n",
    "    SHP_Median_GUROBI.record(idy,idx,x,y)\n",
    "# Save Shapefile    \n",
    "SHP_Median_GUROBI.save('shapefiles/Selected_Locations_Pmedian_GUROBI')"
   ]
  },
  {
   "cell_type": "markdown",
   "metadata": {},
   "source": [
    "------------------"
   ]
  },
  {
   "cell_type": "markdown",
   "metadata": {},
   "source": [
    "<font size='5' face='Times New Roman'><b>2.2a  <u>Cplex <i>p</i>-Median test [<i>p</i> = 2]</u></b></font>"
   ]
  },
  {
   "cell_type": "code",
   "execution_count": null,
   "metadata": {
    "collapsed": false
   },
   "outputs": [],
   "source": [
    "t1 = time.time()\n",
    "\n",
    "# Demand\n",
    "Ai = Ai\n",
    "# Demand Sum\n",
    "AiSum = AiSum\n",
    "# Travel Costs\n",
    "Cij = All_Dist_MILES\n",
    "# Weighted Costs\n",
    "Sij = Ai * Cij\n",
    "client_nodes = range(len(Sij))\n",
    "service_nodes = range(len(Sij[0]))\n",
    "\n",
    "all_nodes = len(Sij) * len(Sij[0])\n",
    "ALL_nodes = range(all_nodes)\n",
    "\n",
    "x = 'x'\n",
    "cli_var = []\n",
    "for i in client_nodes:\n",
    "    for j in service_nodes:\n",
    "        temp = x + str(i+1) + '_' + str(j+1)\n",
    "        cli_var.append(temp)\n",
    "client_var = np.array(cli_var)\n",
    "client_var = client_var.reshape(len(Sij),len(Sij[0]))\n",
    "\n",
    "y = 'y'\n",
    "fac_var = []\n",
    "for i in service_nodes:\n",
    "    temp = y + str(i+1)\n",
    "    fac_var.append(temp)\n",
    "facility_var = np.array(fac_var)\n",
    "facility_var = facility_var.reshape(1,len(Sij[0]))\n",
    "\n",
    "#     2. Create Model and Add Variables\n",
    "# Create Model\n",
    "mPMP_CPLEX = cp.Cplex()\n",
    "# Problem Name\n",
    "mPMP_CPLEX.set_problem_name('\\n -- P-Median -- ')\n",
    "print mPMP_CPLEX.get_problem_name()\n",
    "\n",
    "# Problem Type  ==>  Linear Programming\n",
    "mPMP_CPLEX.set_problem_type(mPMP_CPLEX.problem_type.LP)\n",
    "# Set MIP Emphasis to '2' --> Optimal\n",
    "mPMP_CPLEX.parameters.emphasis.mip.set(2)\n",
    "print mPMP_CPLEX.parameters.get_changed()\n",
    "print '\\nProblem Type\\n    ' + str(mPMP_CPLEX.problem_type[mPMP_CPLEX.get_problem_type()])\n",
    "# Objective Function Sense  ==>  Minimize\n",
    "mPMP_CPLEX.objective.set_sense(mPMP_CPLEX.objective.sense.minimize)\n",
    "print 'Objective Sense\\n    ' + str(mPMP_CPLEX.objective.sense[mPMP_CPLEX.objective.get_sense()])\n",
    "# Add Client Decision Variables\n",
    "mPMP_CPLEX.variables.add(names = [cli_var[i] for i in ALL_nodes],\n",
    "                        obj = [Sij[i][j] for i in client_nodes for j in service_nodes], \n",
    "                        lb = [0] * all_nodes, \n",
    "                        ub = [1] * all_nodes, \n",
    "                        types = ['B'] * all_nodes)\n",
    "# Add Service Decision Variable\n",
    "mPMP_CPLEX.variables.add(names = [fac_var[j] for j in service_nodes],\n",
    "                        lb = [0] * len(Sij[0]), \n",
    "                        ub = [1] * len(Sij[0]), \n",
    "                        types = ['B'] * len(Sij[0]))\n",
    "\n",
    "#    3. Add Constraints\n",
    "# Add Assignment Constraints\n",
    "for orig in client_nodes:       \n",
    "    assignment_constraints = cp.SparsePair(ind = [client_var[orig][dest] \n",
    "                                            for dest in service_nodes],                           \n",
    "                                            val = [1] * len(Sij[0]))\n",
    "    mPMP_CPLEX.linear_constraints.add(lin_expr = [assignment_constraints],                 \n",
    "                                senses = ['E'], \n",
    "                                rhs = [1]);\n",
    "# Add Facility Constraint\n",
    "facility_constraint = cp.SparsePair(ind = fac_var, \n",
    "                                    val = [1.0] * len(Sij[0]))\n",
    "mPMP_CPLEX.linear_constraints.add(lin_expr = [facility_constraint],\n",
    "                                senses = ['E'],\n",
    "                                rhs = [2])\n",
    "# Add Opening Constraint\n",
    "cli_var_open = []\n",
    "for i in client_nodes:\n",
    "    for j in service_nodes:\n",
    "        temp = x + str(i+1) + '_' + str(j+1)\n",
    "        cli_var_open.append(temp)\n",
    "fac_var_open = []\n",
    "for i in client_nodes:\n",
    "    for j in service_nodes:\n",
    "        temp = y + str(j+1)\n",
    "        fac_var_open.append(temp)\n",
    "l = []\n",
    "for i in ALL_nodes:\n",
    "    l.append([cli_var_open[i]]+[fac_var_open[i]])\n",
    "for i in l:\n",
    "    opening_constraint = cp.SparsePair(ind = i, val = [-1.0, 1.0])\n",
    "    mPMP_CPLEX.linear_constraints.add(lin_expr = [opening_constraint], \n",
    "                                senses = ['G'], \n",
    "                                rhs = [0])\n",
    "\n",
    "#    4. Optimize and Print Results\n",
    "mPMP_CPLEX.solve()\n",
    "t2C = time.time()-t1\n",
    "#mPMP_CPLEX.write('LP_Files/WaverlyPMP_CPLEX.lp')\n",
    "solution = mPMP_CPLEX.solution\n",
    "selected = []\n",
    "dbf1 = ps.open('shapefiles/RandomPoints_SERVICE.dbf')\n",
    "NEW_Records_PMP_CPLEX = []\n",
    "for v in mPMP_CPLEX.variables.get_names():\n",
    "    if 'x' in v:\n",
    "        pass\n",
    "    elif (solution.get_values(v) >\n",
    "        mPMP_CPLEX.parameters.mip.tolerances.integrality.get()):\n",
    "        var = '%s' % v\n",
    "        selected.append(var)\n",
    "        for i in range(dbf1.n_records):\n",
    "            if var in dbf1.read_record(i):\n",
    "                x = dbf1.read_record(i)\n",
    "                NEW_Records_PMP_CPLEX.append(x)\n",
    "            else:\n",
    "                pass\n",
    "# solution.get_status() returns an integer code\n",
    "print 'Solution status = ' , solution.get_status(), ':',\n",
    "# the following line prints the corresponding string\n",
    "print solution.status[solution.get_status()]\n",
    "# Display solution.\n",
    "print 'Total cost:  ' , solution.get_objective_value()\n",
    "print 'Determination Time to Build Model in Python and Optimize (sec.):  ', mPMP_CPLEX.get_dettime(), 'ticks'\n",
    "print 'Real Time to Build Model in Python and Optimize (sec.):  ', t2C\n",
    "print '****************************'\n",
    "for f in fac_var:\n",
    "    if (solution.get_values(f) >\n",
    "        mPMP_CPLEX.parameters.mip.tolerances.integrality.get()):\n",
    "        print '    Facility %s is open' % f\n",
    "    else:\n",
    "        pass #print '    Facility %s is closed' % f           \n",
    "print '****************************'\n",
    "print '\\n----- Date/Time ------------------- ', dt.datetime.now()\n",
    "print '\\n----- Cplex p-Median Problem -----'\n",
    "print '\\n-----\\nJames Gaboardi, 2015'"
   ]
  },
  {
   "cell_type": "markdown",
   "metadata": {},
   "source": [
    "<font size='5' face='Times New Roman'><b>2.2b <u>Instantiate Selected Cplex <i>p</i>-median shapefile</u></b></font>"
   ]
  },
  {
   "cell_type": "code",
   "execution_count": null,
   "metadata": {
    "collapsed": false
   },
   "outputs": [],
   "source": [
    "SHP_Median_CPLEX = shp.Writer(shp.POINT)\n",
    "# Add Points\n",
    "for idy,idx,x,y in NEW_Records_PMP_CPLEX:\n",
    "    SHP_Median_CPLEX.point(float(x), float(y))\n",
    "# Add Fields\n",
    "SHP_Median_CPLEX.field('y_ID')\n",
    "SHP_Median_CPLEX.field('x_ID')\n",
    "SHP_Median_CPLEX.field('LAT')\n",
    "SHP_Median_CPLEX.field('LON')\n",
    "# Add Records\n",
    "for idy,idx,x,y in NEW_Records_PMP_CPLEX:\n",
    "    SHP_Median_CPLEX.record(idy,idx,x,y)\n",
    "# Save Shapefile    \n",
    "SHP_Median_CPLEX.save('shapefiles/Selected_Locations_Pmedian_CPLEX')"
   ]
  },
  {
   "cell_type": "markdown",
   "metadata": {},
   "source": [
    "------------------"
   ]
  },
  {
   "cell_type": "markdown",
   "metadata": {},
   "source": [
    "<font size='7' face='Times New Roman'><b>3. <u>Selected locations</u></b></font>"
   ]
  },
  {
   "cell_type": "markdown",
   "metadata": {},
   "source": [
    "<font size='5' face='Times New Roman'><b>3.1 <u>Gurobi & Cplex <i>p</i>-Median Selected locations</u></b></font>"
   ]
  },
  {
   "cell_type": "code",
   "execution_count": null,
   "metadata": {
    "collapsed": false
   },
   "outputs": [],
   "source": [
    "figsize(10,10)\n",
    "# Draw Network Actual Roads and Nodes\n",
    "nx.draw(g, ntw.node_coords, node_size=5, alpha=0.25, edge_color='r', width=2)\n",
    "# Draw Graph\n",
    "nx.draw(g1, ntw.node_coords, node_size=10, alpha=0.5)\n",
    "\n",
    "# Gurobi p-Median\n",
    "P_Med_GUROBI = ps.open('shapefiles/Selected_Locations_Pmedian_GUROBI.shp')\n",
    "points_median_GUROBI = {}\n",
    "for idx, coords in enumerate(P_Med_GUROBI):\n",
    "    GUROBI_median_g.add_node(idx)\n",
    "    points_median_GUROBI[idx] = coords\n",
    "    GUROBI_median_g.node[idx] = coords\n",
    "nx.draw(GUROBI_median_g, points_median_GUROBI, \n",
    "        node_size=600, alpha=1, node_color='g')\n",
    "\n",
    "# Cplex p-Median\n",
    "P_Med_CPLEX = ps.open('shapefiles/Selected_Locations_Pmedian_CPLEX.shp')\n",
    "points_median_CPLEX = {}\n",
    "for idx, coords in enumerate(P_Med_CPLEX):\n",
    "    CPLEX_median_g.add_node(idx)\n",
    "    points_median_CPLEX[idx] = coords\n",
    "    CPLEX_median_g.node[idx] = coords\n",
    "nx.draw(CPLEX_median_g, points_median_CPLEX, \n",
    "        node_size=300, alpha=1, node_color='r')\n",
    "\n",
    "# Draw Graph of Random Service\n",
    "nx.draw(GRAPH_client, points_client, \n",
    "        node_size=15, alpha=.5, node_color='k')\n",
    "\n",
    "# Draw Graph of Random Service\n",
    "nx.draw(GRAPH_service, points_service, \n",
    "        node_size=50, alpha=1, node_color='k')\n",
    "\n",
    "# Legend (Ordered Dictionary)\n",
    "LEGEND = OrderedDict()\n",
    "LEGEND['Network Nodes']=g\n",
    "LEGEND['Roads']=g\n",
    "LEGEND['Graph Vertices']=g1\n",
    "LEGEND['Graph Edges']=g1\n",
    "LEGEND['Gurobi Optimal p-Median (p=2)']=GUROBI_median_g\n",
    "LEGEND['Cplex Optimal p-Median (p=2)']=CPLEX_median_g\n",
    "LEGEND['Client Nodes']=GRAPH_client\n",
    "LEGEND['Service Nodes']=GRAPH_service\n",
    "legend(LEGEND, loc='lower right', fancybox=True, framealpha=0.5)\n",
    "\n",
    "# Title\n",
    "title('Waverly Hills\\n Tallahassee, Florida', family='Times New Roman', \n",
    "      size=40, color='k', backgroundcolor='w', weight='bold')\n",
    "# North Arrow and 'N' --> Must be changed for different spatial resolutions, etc.\n",
    "arrow(-84.281, 30.507, 0.0, 0.01, width=.0003, head_width=0.0012, \n",
    "          head_length=0.002, fc='k', ec='k',alpha=0.75,)\n",
    "annotate('N', xy=(-84.2815, 30.52), fontstyle='italic', fontsize='xx-large',\n",
    "            fontweight='heavy', alpha=0.75)"
   ]
  },
  {
   "cell_type": "markdown",
   "metadata": {},
   "source": [
    "<font size='5' face='Times New Roman'><b>3.2 <u>Optimized Values</u></b></font>"
   ]
  },
  {
   "cell_type": "code",
   "execution_count": null,
   "metadata": {
    "collapsed": false,
    "scrolled": true
   },
   "outputs": [],
   "source": [
    "print '********************************************************'\n",
    "print ' | Total Cost: Objective Function Value (miles)       '\n",
    "print ' |  | Gurobi ------------------ ', val, '       '\n",
    "print ' |  | CPLEX ------------------- ', solution.get_objective_value(), '       '\n",
    "print '-------------------------------------------------------'\n",
    "print ' | Total Time to Build Model and Optimize: (seconds)  '\n",
    "print ' |  | Gurobi ------------------ ', t2P, '       '\n",
    "print ' |  | CPLEX ------------------- ', t2C, '       '\n",
    "print '********************************************************'"
   ]
  },
  {
   "cell_type": "markdown",
   "metadata": {},
   "source": [
    "<font size='5' face='Times New Roman'><b>3.3 <u>System Information</u></b></font>"
   ]
  },
  {
   "cell_type": "code",
   "execution_count": null,
   "metadata": {
    "collapsed": false
   },
   "outputs": [],
   "source": [
    "print '********************************************************'\n",
    "print ' | Platform Specs:                                    |'\n",
    "print ' |  | OS X Yosemite v10.10.4                          |'\n",
    "print ' |  | MacBook Pro (Retina, 13-inch, Early 2015)       |'\n",
    "print ' |  | Processor: 3.1 GHz Intel Core i7                |'\n",
    "print ' |  | Memory: 16 GB 1867 MHz DDR3                     |'\n",
    "print '********************************************************'\n",
    "print ' |  | Date/Time --------- ', dt.datetime.now(), '|'\n",
    "print '********************************************************'"
   ]
  },
  {
   "cell_type": "markdown",
   "metadata": {},
   "source": [
    "-----------------------"
   ]
  }
 ],
 "metadata": {
  "kernelspec": {
   "display_name": "Python 2",
   "language": "python",
   "name": "python2"
  },
  "language_info": {
   "codemirror_mode": {
    "name": "ipython",
    "version": 2
   },
   "file_extension": ".py",
   "mimetype": "text/x-python",
   "name": "python",
   "nbconvert_exporter": "python",
   "pygments_lexer": "ipython2",
   "version": "2.7.10"
  }
 },
 "nbformat": 4,
 "nbformat_minor": 0
}
